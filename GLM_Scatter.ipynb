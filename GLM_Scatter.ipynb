{
 "cells": [
  {
   "cell_type": "code",
   "execution_count": 2,
   "metadata": {},
   "outputs": [],
   "source": [
    "import numpy as np\n",
    "import matplotlib.pyplot as plt\n",
    "import cartopy.crs as ccrs\n",
    "import cartopy.feature as cfeature\n",
    "import netCDF4 as nc"
   ]
  },
  {
   "cell_type": "code",
   "execution_count": 8,
   "metadata": {},
   "outputs": [],
   "source": [
    "infile = '/localdata/cases/20190403/GLM/OR_GLM-L2-LCFA_G16_s20190940404400_e20190940405000_c20190940405026.nc'\n",
    "GLM = nc.Dataset(infile,'r')\n",
    "data_crs = ccrs.PlateCarree()"
   ]
  },
  {
   "cell_type": "code",
   "execution_count": 11,
   "metadata": {},
   "outputs": [
    {
     "data": {
      "text/plain": [
       "<class 'netCDF4._netCDF4.Dataset'>\n",
       "root group (NETCDF4 data model, file format HDF5):\n",
       "    created_by: inge GLM GRB-R v1.0.0 grbdelta.ssec.wisc.edu\n",
       "    production_site: WCDAS\n",
       "    featureType: point\n",
       "    dataset_name: OR_GLM-L2-LCFA_G16_s20190940404400_e20190940405000_c20190940405026.nc\n",
       "    naming_authority: gov.nesdis.noaa\n",
       "    Conventions: CF-1.7\n",
       "    institution: DOC/NOAA/NESDIS> U.S. Department of Commerce, National Oceanic and Atmospheric Administration, National Environmental Satellite, Data, and Information Services\n",
       "    project: GOES\n",
       "    iso_series_metadata_id: f5816f53-fd6d-11e3-a3ac-0800200c9a66\n",
       "    Metadata_Conventions: Unidata Dataset Discovery v1.0\n",
       "    keywords_vocabulary: NASA Global Change Master Directory (GCMD) Earth Science Keywords, Version 7.0.0.0.0\n",
       "    standard_name_vocabulary: CF Standard Name Table (v35, 20 July 2016)\n",
       "    title: GLM L2 Lightning Detections: Events, Groups, and Flashes\n",
       "    summary: The Lightning Detections: Events, Groups, and Flashes product consists of a hierarchy of earth-located lightning radiant energy measures including events, groups, and flashes. Lightning events are detected by the instrument. Lightning groups are a collection of one or more lightning events that satisfy temporal and spatial coincidence thresholds. Similarly, lightning flashes are a collection of one or more lightning groups that satisfy temporal and spatial coincidence thresholds. The product includes the relationship among lightning events, groups, and flashes, and the area coverage of lightning groups and flashes. The product also includes processing and data quality metadata, and satellite state and location information.\n",
       "    license: Unclassified data.  Access is restricted to approved users only.\n",
       "    keywords: ATMOSPHERE > ATMOSPHERIC ELECTRICITY > LIGHTNING, ATMOSPHERE > ATMOSPHERIC PHENOMENA > LIGHTNING\n",
       "    cdm_data_type: Point\n",
       "    processing_level: National Aeronautics and Space Administration (NASA) L2\n",
       "    orbital_slot: GOES-East\n",
       "    platform_ID: G16\n",
       "    instrument_ID: FM1\n",
       "    instrument_type: GOES-R Series Geostationary Lightning Mapper\n",
       "    spatial_resolution: 8km at nadir\n",
       "    date_created: 2019-04-04T04:05:02.6Z\n",
       "    time_coverage_start: 2019-04-04T04:04:40.0Z\n",
       "    time_coverage_end: 2019-04-04T04:05:00.0Z\n",
       "    production_data_source: Realtime\n",
       "    production_environment: OE\n",
       "    quality_score: 6666 104 2201\n",
       "    dimensions(sizes): number_of_flashes(104), number_of_groups(2201), number_of_events(6666), number_of_time_bounds(2), number_of_field_of_view_bounds(2), number_of_wavelength_bounds(2)\n",
       "    variables(dimensions): int32 \u001b[4mevent_id\u001b[0m(number_of_events), int16 \u001b[4mevent_time_offset\u001b[0m(number_of_events), int16 \u001b[4mevent_lat\u001b[0m(number_of_events), int16 \u001b[4mevent_lon\u001b[0m(number_of_events), int16 \u001b[4mevent_energy\u001b[0m(number_of_events), int32 \u001b[4mevent_parent_group_id\u001b[0m(number_of_events), int32 \u001b[4mgroup_id\u001b[0m(number_of_groups), int16 \u001b[4mgroup_time_offset\u001b[0m(number_of_groups), int16 \u001b[4mgroup_frame_time_offset\u001b[0m(number_of_groups), float32 \u001b[4mgroup_lat\u001b[0m(number_of_groups), float32 \u001b[4mgroup_lon\u001b[0m(number_of_groups), int16 \u001b[4mgroup_area\u001b[0m(number_of_groups), int16 \u001b[4mgroup_energy\u001b[0m(number_of_groups), int16 \u001b[4mgroup_parent_flash_id\u001b[0m(number_of_groups), int16 \u001b[4mgroup_quality_flag\u001b[0m(number_of_groups), int16 \u001b[4mflash_id\u001b[0m(number_of_flashes), int16 \u001b[4mflash_time_offset_of_first_event\u001b[0m(number_of_flashes), int16 \u001b[4mflash_time_offset_of_last_event\u001b[0m(number_of_flashes), int16 \u001b[4mflash_frame_time_offset_of_first_event\u001b[0m(number_of_flashes), int16 \u001b[4mflash_frame_time_offset_of_last_event\u001b[0m(number_of_flashes), float32 \u001b[4mflash_lat\u001b[0m(number_of_flashes), float32 \u001b[4mflash_lon\u001b[0m(number_of_flashes), int16 \u001b[4mflash_area\u001b[0m(number_of_flashes), int16 \u001b[4mflash_energy\u001b[0m(number_of_flashes), int16 \u001b[4mflash_quality_flag\u001b[0m(number_of_flashes), float64 \u001b[4mproduct_time_bounds\u001b[0m(number_of_time_bounds), float32 \u001b[4mlightning_wavelength_bounds\u001b[0m(number_of_wavelength_bounds), float32 \u001b[4mlat_field_of_view_bounds\u001b[0m(number_of_field_of_view_bounds), float32 \u001b[4mlon_field_of_view_bounds\u001b[0m(number_of_field_of_view_bounds), int32 \u001b[4mevent_count\u001b[0m(), int32 \u001b[4mgroup_count\u001b[0m(), int32 \u001b[4mflash_count\u001b[0m(), float32 \u001b[4mpercent_navigated_L1b_events\u001b[0m(), int8 \u001b[4myaw_flip_flag\u001b[0m(), float32 \u001b[4mnominal_satellite_subpoint_lat\u001b[0m(), float32 \u001b[4mnominal_satellite_height\u001b[0m(), float32 \u001b[4mnominal_satellite_subpoint_lon\u001b[0m(), float32 \u001b[4mpercent_uncorrectable_L0_errors\u001b[0m(), float64 \u001b[4mproduct_time\u001b[0m(), float32 \u001b[4mlightning_wavelength\u001b[0m(), float32 \u001b[4mgroup_time_threshold\u001b[0m(), float32 \u001b[4mflash_time_threshold\u001b[0m(), float32 \u001b[4mlat_field_of_view\u001b[0m(), int32 \u001b[4mgoes_lat_lon_projection\u001b[0m(), float32 \u001b[4mlon_field_of_view\u001b[0m(), int32 \u001b[4malgorithm_dynamic_input_data_container\u001b[0m(), int32 \u001b[4mprocessing_parm_version_container\u001b[0m(), int32 \u001b[4malgorithm_product_version_container\u001b[0m()\n",
       "    groups: "
      ]
     },
     "execution_count": 11,
     "metadata": {},
     "output_type": "execute_result"
    }
   ],
   "source": [
    "GLM"
   ]
  },
  {
   "cell_type": "code",
   "execution_count": 22,
   "metadata": {},
   "outputs": [],
   "source": [
    "lat = GLM.variables['flash_lat'][:]\n",
    "lon = GLM.variables['flash_lon'][:]"
   ]
  },
  {
   "cell_type": "code",
   "execution_count": 24,
   "metadata": {},
   "outputs": [
    {
     "data": {
      "image/png": "[encoded data removed]",
      "text/plain": [
       "<Figure size 1008x432 with 1 Axes>"
      ]
     },
     "metadata": {
      "needs_background": "light"
     },
     "output_type": "display_data"
    }
   ],
   "source": [
    "plt.figure(figsize=(14, 6))\n",
    "ax = plt.axes(projection=ccrs.Geostationary(-75, 35786023.0))\n",
    "ax.scatter(lon,lat, transform=data_crs)\n",
    "ax.add_feature(cfeature.LAND)\n",
    "ax.add_feature(cfeature.STATES)\n",
    "ax.set_extent([-102.24, -96.80, 34.10, 36.40])\n",
    "plt.show()"
   ]
  },
  {
   "cell_type": "code",
   "execution_count": null,
   "metadata": {},
   "outputs": [],
   "source": []
  }
 ],
 "metadata": {
  "kernelspec": {
   "display_name": "Python 3",
   "language": "python",
   "name": "python3"
  },
  "language_info": {
   "codemirror_mode": {
    "name": "ipython",
    "version": 3
   },
   "file_extension": ".py",
   "mimetype": "text/x-python",
   "name": "python",
   "nbconvert_exporter": "python",
   "pygments_lexer": "ipython3",
   "version": "3.7.1"
  }
 },
 "nbformat": 4,
 "nbformat_minor": 2
}
