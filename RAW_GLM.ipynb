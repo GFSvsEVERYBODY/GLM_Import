{
 "cells": [
  {
   "cell_type": "code",
   "execution_count": 1,
   "metadata": {},
   "outputs": [],
   "source": [
    "import netCDF4 as nc\n",
    "import numpy as np\n",
    "import matplotlib.pyplot as plt\n",
    "import datetime\n",
    "import os"
   ]
  },
  {
   "cell_type": "code",
   "execution_count": 4,
   "metadata": {},
   "outputs": [],
   "source": [
    "file_path = '/localdata/Stats_Project/20180519/GLM_data/'\n",
    "#filename = 'OR_GLM-L2-LCFA_G16_s20181400259400_e20181400300000_c20181400300029.nc'"
   ]
  },
  {
   "cell_type": "code",
   "execution_count": 81,
   "metadata": {},
   "outputs": [],
   "source": [
    "#Function that assigns the window to pull the data from as a function of time\n",
    "def frames(dtime):\n",
    "    if dtime < datetime.datetime(2019, 6, 1, 1, 54, 0):\n",
    "        nw_lat = 40.58\n",
    "        nw_lon = -95.37\n",
    "        se_lat = 40.12\n",
    "        se_lon = -92.35\n",
    "    elif dtime > datetime.datetime(2019, 4, 4, 1, 54, 0):\n",
    "        nw_lat = 35.11\n",
    "        nw_lon = -98.95\n",
    "        se_lat = 34.19\n",
    "        se_lon = -97.40\n",
    "        \n",
    "    return nw_lat,nw_lon,se_lat,se_lon"
   ]
  },
  {
   "cell_type": "code",
   "execution_count": 82,
   "metadata": {},
   "outputs": [],
   "source": [
    "#A function that takes in the file name and returns the data cut to a desired lat/lon, and the time\n",
    "def load_data(nc_file):\n",
    "    #Getting the time\n",
    "    dtime = nc.num2date(nc_file.variables['product_time'][:],nc_file.variables['product_time'].units)\n",
    "    \n",
    "    #Getting the lat,lon bounds you need\n",
    "    nw_lat,nw_lon,se_lat,se_lon = frames(dtime)\n",
    "    \n",
    "    #Loading in the data\n",
    "    data = nc_file.variables['flash_energy']\n",
    "    lat = nc_file.variables['flash_lat'][:]\n",
    "    lon = nc_file.variables['flash_lon'][:]\n",
    "    \n",
    "    #Find the data that \n",
    "    data_locs = np.where((lat >= se_lat) & (lat <= nw_lat) & (lon >= nw_lon) & (lon <= se_lon))[0]\n",
    "    data_cut = data[data_locs]\n",
    "    lat_cut = lat[data_locs]\n",
    "    lon_cut = lon[data_locs]\n",
    "    \n",
    "    return data_cut,lat_cut,lon_cut, dtime"
   ]
  },
  {
   "cell_type": "code",
   "execution_count": 83,
   "metadata": {},
   "outputs": [],
   "source": [
    "#A function that checks for matches from the new array and total array spatially\n",
    "#adds to that point if so, and then concaternates the 'null' matches\n",
    "def match_maker(data,total_data,lat,total_lat,lon,total_lon):\n",
    "    counter1 = np.arange(0,len(data),1) #Counter for the new data\n",
    "    counter2 = np.arange(0,len(total_data),1) #Counter for total data\n",
    "    \n",
    "    for i in counter1:\n",
    "        for j in counter2:\n",
    "            if (lat[i]==total_lat[j]) & (lon[i]==total_lon[j]):\n",
    "                total_data[j] += data[i]\n",
    "                del(data[i])\n",
    "                del(lat[i])\n",
    "                del(lon[i])\n",
    "                print ('A Match!')\n",
    "    total_data = np.concatenate((data,total_data),axis=0)\n",
    "    total_lat = np.concatenate((lat,total_lat),axis=0)\n",
    "    total_lon = np.concatenate((lon,total_lon),axis=0)\n",
    "\n",
    "    return total_data,total_lat,total_lon"
   ]
  },
  {
   "cell_type": "code",
   "execution_count": 87,
   "metadata": {},
   "outputs": [
    {
     "name": "stdout",
     "output_type": "stream",
     "text": [
      "[0.00000000e+00 0.00000000e+00 0.00000000e+00 0.00000000e+00\n",
      " 0.00000000e+00 0.00000000e+00 0.00000000e+00 0.00000000e+00\n",
      " 0.00000000e+00 0.00000000e+00 0.00000000e+00 0.00000000e+00\n",
      " 0.00000000e+00 0.00000000e+00 0.00000000e+00 0.00000000e+00\n",
      " 0.00000000e+00 0.00000000e+00 0.00000000e+00 0.00000000e+00\n",
      " 0.00000000e+00 0.00000000e+00 0.00000000e+00 0.00000000e+00\n",
      " 0.00000000e+00 0.00000000e+00 0.00000000e+00 0.00000000e+00\n",
      " 0.00000000e+00 0.00000000e+00 0.00000000e+00 0.00000000e+00\n",
      " 0.00000000e+00 0.00000000e+00 0.00000000e+00 0.00000000e+00\n",
      " 0.00000000e+00 0.00000000e+00 0.00000000e+00 0.00000000e+00\n",
      " 0.00000000e+00 0.00000000e+00 0.00000000e+00 0.00000000e+00\n",
      " 0.00000000e+00 0.00000000e+00 2.74674591e-14 0.00000000e+00\n",
      " 1.63278787e-13 1.38863273e-13 8.80484704e-13 0.00000000e+00\n",
      " 3.90648316e-13 6.47011253e-13 4.54739057e-13 1.06207512e-12\n",
      " 4.24219660e-13 8.02660184e-13 2.39577292e-13 5.72238762e-13\n",
      " 9.32367681e-13 9.14056049e-13 6.88212454e-13 1.69382669e-13\n",
      " 8.40809464e-13 3.89122355e-13 6.48537268e-13 4.21167712e-13\n",
      " 7.75192736e-13 2.79252505e-13 1.55648942e-12 1.35506135e-12\n",
      " 8.31653648e-13 5.32563522e-13 3.28083535e-13 8.28601727e-13\n",
      " 1.03918556e-12 1.25587334e-12 9.01848258e-13 6.27173660e-13\n",
      " 6.19543804e-13 3.12823850e-13 1.36726915e-12 3.41817286e-13\n",
      " 1.95324158e-13 4.88310394e-14 1.05291928e-13 1.26655508e-13\n",
      " 5.95128263e-14 1.73960577e-13 1.08343869e-13 9.30841707e-14\n",
      " 1.38863273e-13 8.85062558e-14 6.86686493e-14 1.43441181e-13\n",
      " 2.21265646e-13 1.69382669e-13 1.93798184e-13 3.05193994e-13\n",
      " 1.77012512e-13 1.15973718e-13 1.32759391e-13 1.69382669e-13\n",
      " 1.87694302e-13 4.13537856e-13 3.89122355e-13 3.96752184e-13\n",
      " 2.09057882e-13 3.55551011e-13 5.05096073e-13 1.25129535e-13\n",
      " 2.68570729e-13 2.38051305e-13 2.33473397e-13 1.63278787e-13\n",
      " 5.11199969e-13 6.19543804e-13 5.40193378e-13 9.12530034e-13\n",
      " 4.60842952e-13 3.57076971e-13 1.34132766e-12 2.79252505e-13\n",
      " 3.69284735e-13 5.09673955e-13 2.30421476e-13 3.47921155e-13\n",
      " 2.04479974e-13 7.69088894e-13 4.60842952e-13 2.86882361e-13\n",
      " 3.73862643e-13 4.63894873e-13 4.36427424e-13 5.17303810e-13\n",
      " 3.73862643e-13 4.71524729e-13 2.34999384e-13 3.41817286e-13\n",
      " 3.58602959e-13 5.49349195e-13 8.24023805e-14 1.64804761e-13\n",
      " 2.38051305e-13 3.44869207e-13 3.17401758e-13 5.89024435e-13\n",
      " 8.62173017e-13 3.02142046e-13 1.49545063e-13 5.69186788e-13\n",
      " 2.47207148e-13 4.85258481e-13 5.23407706e-13 2.15161764e-13\n",
      " 1.69382669e-13 3.43343247e-13 2.56362965e-13 4.27271608e-13\n",
      " 3.26557574e-13 9.01848258e-13 1.69230070e-12 6.85160533e-13\n",
      " 2.21265646e-13 2.27369528e-13 1.78080695e-12 7.81296631e-13\n",
      " 8.34705569e-13 6.07336067e-13 6.94316349e-13 1.04071157e-12\n",
      " 7.41621391e-13 2.87034957e-12 7.12627982e-13 2.69791503e-12\n",
      " 5.03570113e-13 3.10840091e-12 1.49697659e-12 7.69088894e-13\n",
      " 9.20159890e-13 1.71213835e-12 1.20093833e-12 9.72042867e-13\n",
      " 2.62009056e-12 1.16736698e-12 6.24121740e-13 4.44820266e-12\n",
      " 7.67562880e-13 1.23603569e-12 2.06921524e-12 3.07025152e-12\n",
      " 1.57174913e-12 3.11755678e-12 1.95476751e-12 1.97307925e-12\n",
      " 2.07837111e-12 2.57888936e-12 2.79557692e-12 2.22791620e-12\n",
      " 1.62668403e-12 1.69535263e-12 2.81694069e-12 3.42427670e-12\n",
      " 7.58407063e-13 2.35762364e-12 3.10382297e-12 1.73807984e-12\n",
      " 2.85966780e-12 8.54543216e-13 3.41817286e-12 9.59835076e-13\n",
      " 7.46199326e-13 1.42372995e-12 2.13483202e-12 4.37953384e-13\n",
      " 7.40095431e-13 1.31233414e-12 1.15210738e-12 1.46950908e-12\n",
      " 6.28699621e-13 2.14551380e-12 8.56069176e-13 1.83421594e-12\n",
      " 1.40541832e-12 1.85405359e-12 1.00103628e-12 7.12627982e-13\n",
      " 1.49850249e-12 1.78233296e-12 1.99749462e-12 9.21685905e-13\n",
      " 2.04632578e-12 5.49349195e-13 1.41915212e-12 2.37440926e-12\n",
      " 1.40999625e-12 1.11395810e-12 1.28181482e-12 1.21314612e-12\n",
      " 7.23309758e-13 2.31794835e-12 1.37642491e-12 1.03918556e-12\n",
      " 1.51071029e-12 2.32863013e-12 2.73148637e-13 1.46798307e-12\n",
      " 3.54025023e-13 1.58700879e-13 6.85160533e-13 1.57937888e-12\n",
      " 2.41103253e-13 1.08343868e-12 5.21881746e-13 4.13843048e-12\n",
      " 1.01171805e-12 3.23505627e-13 2.22181236e-12 1.13989959e-12\n",
      " 6.62270965e-13 7.44673366e-13 5.31037562e-13 6.07336056e-12\n",
      " 1.49392467e-12 1.04376349e-12 2.28437711e-12 9.75094788e-13\n",
      " 6.54641109e-13 2.96953759e-12 4.76102610e-13 6.62270965e-13\n",
      " 9.79672723e-13 1.44509361e-12 1.99596871e-12 5.02044099e-13\n",
      " 8.16393936e-13 1.78538488e-12 8.80484704e-13 1.40236640e-12\n",
      " 3.45632203e-12 2.75437572e-12 4.12011903e-14 1.68924878e-12\n",
      " 1.54580764e-12 1.98376099e-14 2.76200558e-13 3.05194001e-14\n",
      " 1.70908643e-13 7.47725314e-14 1.37337295e-14 1.22077600e-13\n",
      " 6.76004717e-13 6.45485293e-13 3.37239378e-13 2.42629240e-13\n",
      " 5.95128263e-14 8.54543216e-14 2.96038178e-13 2.18213712e-13]\n"
     ]
    }
   ],
   "source": [
    "output = np.empty([0])\n",
    "times = np.empty([0])\n",
    "\n",
    "for file_name in os.listdir(file_path):\n",
    "    nc_file = nc.Dataset(file_path+file_name,'r')\n",
    "    data,lat,lon,time = load_data(nc_file)\n",
    "    seconds = time.strftime('%S')\n",
    "    if seconds == '00':\n",
    "        times = np.append(times,time)\n",
    "        total_data = data\n",
    "        total_lat = lat\n",
    "        total_lon = lon\n",
    "    elif seconds == '20':\n",
    "        total_data,total_lat,total_lon = match_maker(data,total_data,lat,total_lat,lon,total_lon)\n",
    "    elif seconds == '40':\n",
    "        total_data,total_lat,total_lon = match_maker(data,total_data,lat,total_lat,lon,total_lon)\n",
    "        if len(total_data) >= 1:\n",
    "            output = np.append(output, np.max(total_data))\n",
    "        else:\n",
    "            output = np.append(output, 0)\n",
    "print (output)"
   ]
  },
  {
   "cell_type": "code",
   "execution_count": 88,
   "metadata": {},
   "outputs": [
    {
     "data": {
      "image/png": "[encoded data removed]",
      "text/plain": [
       "<Figure size 432x288 with 1 Axes>"
      ]
     },
     "metadata": {
      "needs_background": "light"
     },
     "output_type": "display_data"
    }
   ],
   "source": [
    "plt.plot(times,output)\n",
    "plt.show()"
   ]
  },
  {
   "cell_type": "code",
   "execution_count": 35,
   "metadata": {},
   "outputs": [
    {
     "name": "stdout",
     "output_type": "stream",
     "text": [
      "seconds since 2000-01-01 12:00:00\n",
      "<class 'netCDF4._netCDF4.Variable'>\n",
      "int32 goes_lat_lon_projection()\n",
      "    long_name: GOES-R latitude / longitude projection\n",
      "    grid_mapping_name: latitude_longitude\n",
      "    semi_major_axis: 6378137.0\n",
      "    semi_minor_axis: 6356752.31414\n",
      "    inverse_flattening: 298.2572221\n",
      "    longitude_of_prime_meridian: 0.0\n",
      "unlimited dimensions: \n",
      "current shape = ()\n",
      "filling on, default _FillValue of -2147483647 used\n",
      "\n"
     ]
    }
   ],
   "source": [
    "print (nc_file.variables['product_time'].units)\n",
    "\n",
    "print (nc_file.variables['goes_lat_lon_projection'])"
   ]
  },
  {
   "cell_type": "code",
   "execution_count": 33,
   "metadata": {},
   "outputs": [
    {
     "data": {
      "text/plain": [
       "datetime.datetime(1988, 5, 19, 14, 59, 40)"
      ]
     },
     "execution_count": 33,
     "metadata": {},
     "output_type": "execute_result"
    }
   ],
   "source": [
    "datetime.datetime.utcfromtimestamp(nc_file.variables['product_time'][:])"
   ]
  },
  {
   "cell_type": "code",
   "execution_count": 14,
   "metadata": {},
   "outputs": [
    {
     "data": {
      "text/plain": [
       "()"
      ]
     },
     "execution_count": 14,
     "metadata": {},
     "output_type": "execute_result"
    }
   ],
   "source": [
    "nc_file.variables['event_count'][:].shape"
   ]
  },
  {
   "cell_type": "code",
   "execution_count": 9,
   "metadata": {},
   "outputs": [
    {
     "data": {
      "text/plain": [
       "<class 'netCDF4._netCDF4.Dataset'>\n",
       "root group (NETCDF4 data model, file format HDF5):\n",
       "    created_by: inge GLM GRB-R v1.0.0 grbgamma.ssec.wisc.edu\n",
       "    production_site: WCDAS\n",
       "    featureType: point\n",
       "    orbital_slot: GOES-East\n",
       "    platform_ID: G16\n",
       "    dataset_name: OR_GLM-L2-LCFA_G16_s20181400400000_e20181400400200_c20181400400225.nc\n",
       "    naming_authority: gov.nesdis.noaa\n",
       "    institution: DOC/NOAA/NESDIS> U.S. Department of Commerce, National Oceanic and Atmospheric Administration, National Environmental Satellite, Data, and Information Services\n",
       "    project: GOES\n",
       "    iso_series_metadata_id: f5816f53-fd6d-11e3-a3ac-0800200c9a66\n",
       "    Metadata_Conventions: Unidata Dataset Discovery v1.0\n",
       "    keywords_vocabulary: NASA Global Change Master Directory (GCMD) Earth Science Keywords, Version 7.0.0.0.0\n",
       "    standard_name_vocabulary: CF Standard Name Table (v25, 05 July 2013)\n",
       "    title: GLM L2 Lightning Detections: Events, Groups, and Flashes\n",
       "    summary: The Lightning Detections: Events, Groups, and Flashes product consists of a hierarchy of earth-located lightning radiant energy measures including events, groups, and flashes. Lightning events are detected by the instrument. Lightning groups are a collection of one or more lightning events that satisfy temporal and spatial coincidence thresholds. Similarly, lightning flashes are a collection of one or more lightning groups that satisfy temporal and spatial coincidence thresholds. The product includes the relationship among lightning events, groups, and flashes, and the area coverage of lightning groups and flashes. The product also includes processing and data quality metadata, and satellite state and location information.\n",
       "    license: Unclassified data.  Access is restricted to approved users only.\n",
       "    keywords: ATMOSPHERE > ATMOSPHERIC ELECTRICITY > LIGHTNING, ATMOSPHERE > ATMOSPHERIC PHENOMENA > LIGHTNING\n",
       "    cdm_data_type: Point\n",
       "    instrument_type: GOES-R Series Geostationary Lightning Mapper\n",
       "    processing_level: National Aeronautics and Space Administration (NASA) L2\n",
       "    instrument_ID: FM1\n",
       "    spatial_resolution: 8km at nadir\n",
       "    date_created: 2018-05-20T04:00:22.5Z\n",
       "    time_coverage_start: 2018-05-20T04:00:00.0Z\n",
       "    time_coverage_end: 2018-05-20T04:00:20.0Z\n",
       "    production_data_source: n/a\n",
       "    production_environment: OE\n",
       "    quality_score: 18895 323 6678\n",
       "    dimensions(sizes): number_of_flashes(323), number_of_groups(6678), number_of_events(18895), number_of_time_bounds(2), number_of_field_of_view_bounds(2), number_of_wavelength_bounds(2)\n",
       "    variables(dimensions): int32 \u001b[4mevent_id\u001b[0m(number_of_events), int16 \u001b[4mevent_time_offset\u001b[0m(number_of_events), int16 \u001b[4mevent_lat\u001b[0m(number_of_events), int16 \u001b[4mevent_lon\u001b[0m(number_of_events), int16 \u001b[4mevent_energy\u001b[0m(number_of_events), int32 \u001b[4mevent_parent_group_id\u001b[0m(number_of_events), int32 \u001b[4mgroup_id\u001b[0m(number_of_groups), int16 \u001b[4mgroup_time_offset\u001b[0m(number_of_groups), float32 \u001b[4mgroup_lat\u001b[0m(number_of_groups), float32 \u001b[4mgroup_lon\u001b[0m(number_of_groups), int16 \u001b[4mgroup_area\u001b[0m(number_of_groups), int16 \u001b[4mgroup_energy\u001b[0m(number_of_groups), int16 \u001b[4mgroup_parent_flash_id\u001b[0m(number_of_groups), int16 \u001b[4mgroup_quality_flag\u001b[0m(number_of_groups), int16 \u001b[4mflash_id\u001b[0m(number_of_flashes), int16 \u001b[4mflash_time_offset_of_first_event\u001b[0m(number_of_flashes), int16 \u001b[4mflash_time_offset_of_last_event\u001b[0m(number_of_flashes), float32 \u001b[4mflash_lat\u001b[0m(number_of_flashes), float32 \u001b[4mflash_lon\u001b[0m(number_of_flashes), int16 \u001b[4mflash_area\u001b[0m(number_of_flashes), int16 \u001b[4mflash_energy\u001b[0m(number_of_flashes), int16 \u001b[4mflash_quality_flag\u001b[0m(number_of_flashes), float64 \u001b[4mproduct_time_bounds\u001b[0m(number_of_time_bounds), float32 \u001b[4mlightning_wavelength_bounds\u001b[0m(number_of_wavelength_bounds), float32 \u001b[4mlat_field_of_view_bounds\u001b[0m(number_of_field_of_view_bounds), float32 \u001b[4mlon_field_of_view_bounds\u001b[0m(number_of_field_of_view_bounds), int32 \u001b[4mevent_count\u001b[0m(), int32 \u001b[4mgroup_count\u001b[0m(), int32 \u001b[4mflash_count\u001b[0m(), float32 \u001b[4mpercent_navigated_L1b_events\u001b[0m(), int8 \u001b[4myaw_flip_flag\u001b[0m(), float32 \u001b[4mnominal_satellite_subpoint_lat\u001b[0m(), float32 \u001b[4mnominal_satellite_height\u001b[0m(), float32 \u001b[4mnominal_satellite_subpoint_lon\u001b[0m(), float32 \u001b[4mpercent_uncorrectable_L0_errors\u001b[0m(), float64 \u001b[4mproduct_time\u001b[0m(), float32 \u001b[4mlightning_wavelength\u001b[0m(), float32 \u001b[4mgroup_time_threshold\u001b[0m(), float32 \u001b[4mflash_time_threshold\u001b[0m(), float32 \u001b[4mlat_field_of_view\u001b[0m(), int32 \u001b[4mgoes_lat_lon_projection\u001b[0m(), float32 \u001b[4mlon_field_of_view\u001b[0m(), int32 \u001b[4malgorithm_dynamic_input_data_container\u001b[0m(), int32 \u001b[4mprocessing_parm_version_container\u001b[0m(), int32 \u001b[4malgorithm_product_version_container\u001b[0m()\n",
       "    groups: "
      ]
     },
     "execution_count": 9,
     "metadata": {},
     "output_type": "execute_result"
    }
   ],
   "source": [
    "nc_file"
   ]
  },
  {
   "cell_type": "code",
   "execution_count": 18,
   "metadata": {},
   "outputs": [
    {
     "name": "stdout",
     "output_type": "stream",
     "text": [
      "[656107858 656107859 656107861 ... 656126920 656126921 656126922]\n"
     ]
    }
   ],
   "source": [
    "print (nc_file.variables['event_id'][:])"
   ]
  },
  {
   "cell_type": "code",
   "execution_count": 26,
   "metadata": {},
   "outputs": [
    {
     "name": "stdout",
     "output_type": "stream",
     "text": [
      "(18895,)\n"
     ]
    },
    {
     "data": {
      "text/plain": [
       "(18895,)"
      ]
     },
     "execution_count": 26,
     "metadata": {},
     "output_type": "execute_result"
    }
   ],
   "source": [
    " "
   ]
  },
  {
   "cell_type": "code",
   "execution_count": null,
   "metadata": {},
   "outputs": [],
   "source": []
  }
 ],
 "metadata": {
  "kernelspec": {
   "display_name": "Python 3",
   "language": "python",
   "name": "python3"
  },
  "language_info": {
   "codemirror_mode": {
    "name": "ipython",
    "version": 3
   },
   "file_extension": ".py",
   "mimetype": "text/x-python",
   "name": "python",
   "nbconvert_exporter": "python",
   "pygments_lexer": "ipython3",
   "version": "3.7.1"
  }
 },
 "nbformat": 4,
 "nbformat_minor": 2
}
