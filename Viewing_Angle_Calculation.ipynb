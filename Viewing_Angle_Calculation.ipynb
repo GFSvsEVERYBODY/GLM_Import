{
 "cells": [
  {
   "cell_type": "markdown",
   "metadata": {},
   "source": [
    "This program is designed to take in latitude and longitude and calculate the viewing angle of a satellite assuming a spherical Earth"
   ]
  },
  {
   "cell_type": "code",
   "execution_count": 1,
   "metadata": {},
   "outputs": [],
   "source": [
    "import numpy as np"
   ]
  },
  {
   "cell_type": "code",
   "execution_count": 33,
   "metadata": {},
   "outputs": [],
   "source": [
    "latP = [39.0,47.0]    #Latitude of the point of interest (deg)\n",
    "lonP = [-82.0,-123.0]   #Longitude of the point of interets (deg)"
   ]
  },
  {
   "cell_type": "markdown",
   "metadata": {},
   "source": [
    "This is a function that takes in the point data, and calculates the viewing angle of the satellite from that point assuming a spherical Earth."
   ]
  },
  {
   "cell_type": "code",
   "execution_count": 35,
   "metadata": {},
   "outputs": [],
   "source": [
    "def viewingangle(latP,lonP):\n",
    "    R = 6.37*10**6 #Radius of the Earth (m)\n",
    "    H = 35786023.0 #Height of satellite from Earth's surface (m)\n",
    "    r = R + H      #Height of satellite from the center of the Earth (m)\n",
    "    lonS = [-75.0] #Longitude of the satellite (deg)\n",
    "    ratio = R/r\n",
    "    \n",
    "    #Converting to radians and making sure the longitudes are positive from east\n",
    "    lonS = np.radians(pos_lon(lonS))\n",
    "    lonP = np.radians(pos_lon(lonP))\n",
    "    latP = np.radians(latP)\n",
    "    \n",
    "    #GEOMETRY (see notebook from 6/6 for diagram)\n",
    "    gamma = np.arccos(np.cos(latP)*np.cos(lonP-lonS))\n",
    "    d = r*np.sqrt(1+(ratio**2)-(2*ratio*np.cos(gamma)))\n",
    "    v = np.arccos((r/d)*np.sin(gamma))\n",
    "    v = np.degrees(v)\n",
    "    \n",
    "    return v"
   ]
  },
  {
   "cell_type": "code",
   "execution_count": 36,
   "metadata": {},
   "outputs": [],
   "source": [
    "def pos_lon(lon):\n",
    "    array = np.arange(0,len(lon),1)\n",
    "    for i in array:\n",
    "        if lon[i]<0:\n",
    "            lon[i] = 180 + (lon[i]+180)\n",
    "    return lon"
   ]
  },
  {
   "cell_type": "code",
   "execution_count": 37,
   "metadata": {},
   "outputs": [
    {
     "name": "stdout",
     "output_type": "stream",
     "text": [
      "[44.26327304 18.93418115]\n"
     ]
    }
   ],
   "source": [
    "print (viewingangle(latP,lonP))"
   ]
  },
  {
   "cell_type": "code",
   "execution_count": null,
   "metadata": {},
   "outputs": [],
   "source": []
  }
 ],
 "metadata": {
  "kernelspec": {
   "display_name": "Python 3",
   "language": "python",
   "name": "python3"
  },
  "language_info": {
   "codemirror_mode": {
    "name": "ipython",
    "version": 3
   },
   "file_extension": ".py",
   "mimetype": "text/x-python",
   "name": "python",
   "nbconvert_exporter": "python",
   "pygments_lexer": "ipython3",
   "version": "3.6.5"
  }
 },
 "nbformat": 4,
 "nbformat_minor": 2
}
