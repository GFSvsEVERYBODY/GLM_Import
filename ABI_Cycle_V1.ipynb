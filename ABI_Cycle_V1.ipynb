{
 "cells": [
  {
   "cell_type": "markdown",
   "metadata": {},
   "source": [
    "This notebook is for creating animations and timeseries with the ABI data"
   ]
  },
  {
   "cell_type": "code",
   "execution_count": 1,
   "metadata": {},
   "outputs": [],
   "source": [
    "import numpy as np\n",
    "import netCDF4 as nc\n",
    "import matplotlib.pyplot as plt\n",
    "import cartopy.crs as ccrs\n",
    "import cartopy.feature as cfeature\n",
    "from pyproj import Proj\n",
    "from datetime import datetime\n",
    "import imageio as img\n",
    "import os"
   ]
  },
  {
   "cell_type": "code",
   "execution_count": 16,
   "metadata": {},
   "outputs": [],
   "source": [
    "#Constants\n",
    "source = '/localdata/cases/20190403/ABI/CTPC/'\n",
    "save_location = '/localdata/cases/20190403/ABI/CTPC_pics/'\n",
    "\n",
    "nw_lat=36.40\n",
    "nw_lon=-102.24\n",
    "se_lat=34.10\n",
    "se_lon=-96.80"
   ]
  },
  {
   "cell_type": "code",
   "execution_count": 17,
   "metadata": {},
   "outputs": [],
   "source": [
    "def cutup(nc_file,var,nw_lat,nw_lon,se_lat,se_lon):\n",
    "    #Getting the Satellite info\n",
    "    sat_h = nc_file.variables['goes_imager_projection'].perspective_point_height\n",
    "    sat_lon = nc_file.variables['goes_imager_projection'].longitude_of_projection_origin\n",
    "    sat_sweep = nc_file.variables['goes_imager_projection'].sweep_angle_axis\n",
    "    \n",
    "    #Creating the projection conversion\n",
    "    p = Proj(proj='geos', h=sat_h, lon_0=sat_lon, sweep=sat_sweep)\n",
    "    \n",
    "    #Getting the XY datapoints setup\n",
    "    X = nc_file.variables['x'][:] * sat_h\n",
    "    Y = nc_file.variables['y'][:] * sat_h\n",
    "    XX, YY = np.meshgrid(X, Y)\n",
    "    \n",
    "    #Conversion to lat/lon\n",
    "    lons, lats = p(XX, YY, inverse=True)\n",
    "    \n",
    "    #Cutting doing the variable\n",
    "    locations = (lons<se_lon) &  (lons>nw_lon) & (lats<nw_lat) & (lats>se_lat)\n",
    "    cut_var = var[locations]\n",
    "    \n",
    "    return cut_var\n",
    "\n",
    "#cut_var = cutup(ABI,var,nw_lat,nw_lon,se_lat,se_lon)"
   ]
  },
  {
   "cell_type": "code",
   "execution_count": 20,
   "metadata": {},
   "outputs": [],
   "source": [
    "#Reading in files to create a timeseries\n",
    "var_max = np.empty(0)\n",
    "var_min = np.empty(0)\n",
    "time = np.empty(0)\n",
    "for i in os.listdir(source):\n",
    "    ABI = nc.Dataset(source+i, 'r')\n",
    "    var = ABI.variables['PRES'][:,:]\n",
    "    var_max = np.append(var_max, np.max(var))\n",
    "    var_min = np.append(var_min, np.min(var))\n",
    "    \n",
    "    time_string = ABI.time_coverage_end\n",
    "    time = np.append(time, datetime.strptime(time_string, '%Y-%m-%dT%H:%M:%S.%fZ'))\n",
    "    "
   ]
  },
  {
   "cell_type": "code",
   "execution_count": 21,
   "metadata": {
    "scrolled": true
   },
   "outputs": [
    {
     "data": {
      "image/png": "[encoded data removed]",
      "text/plain": [
       "<Figure size 432x288 with 1 Axes>"
      ]
     },
     "metadata": {
      "needs_background": "light"
     },
     "output_type": "display_data"
    },
    {
     "name": "stdout",
     "output_type": "stream",
     "text": [
      "1029.3975830078125\n",
      "137.5294189453125\n"
     ]
    }
   ],
   "source": [
    "#Quick Readout\n",
    "plt.plot(time,var_max)\n",
    "plt.plot(time,var_min)\n",
    "plt.grid(True)\n",
    "plt.show()\n",
    "print (np.max(var_max))\n",
    "print (np.min(var_min))"
   ]
  },
  {
   "cell_type": "code",
   "execution_count": 19,
   "metadata": {},
   "outputs": [
    {
     "data": {
      "text/plain": [
       "<class 'netCDF4._netCDF4.Dataset'>\n",
       "root group (NETCDF4 data model, file format HDF5):\n",
       "    naming_authority: gov.nesdis.noaa\n",
       "    Conventions: CF-1.7\n",
       "    Metadata_Conventions: Unidata Dataset Discovery v1.0\n",
       "    standard_name_vocabulary: CF Standard Name Table (v35, 20 July 2016)\n",
       "    institution: DOC/NOAA/NESDIS > U.S. Department of Commerce, National Oceanic and Atmospheric Administration, National Environmental Satellite, Data, and Information Services\n",
       "    project: GOES\n",
       "    production_site: NSOF\n",
       "    production_environment: OE\n",
       "    spatial_resolution: 10km at nadir\n",
       "    orbital_slot: GOES-East\n",
       "    platform_ID: G16\n",
       "    instrument_type: GOES R Series Advanced Baseline Imager\n",
       "    scene_id: CONUS\n",
       "    instrument_ID: FM1\n",
       "    dataset_name: OR_ABI-L2-CTPC-M6_G16_s20190932001196_e20190932003568_c20190932005207.nc\n",
       "    iso_series_metadata_id: aa36b140-b00d-11e1-afa6-0800200c9a66\n",
       "    title: ABI L2 Cloud Top Pressure\n",
       "    summary: The Cloud Top Pressure product consists of the pressure at the top of clouds. The product is derived using a physical retrieval composed of a radiative transfer model that calculates clear sky radiances, which is then used to compute the air temperature at cloud top. Product data is generated both day and night.\n",
       "    keywords: ATMOSPHERE > CLOUDS > CLOUD TOP PRESSURE\n",
       "    keywords_vocabulary: NASA Global Change Master Directory (GCMD) Earth Science Keywords, Version 7.0.0.0.0\n",
       "    license: Unclassified data.  Access is restricted to approved users only.\n",
       "    processing_level: National Aeronautics and Space Administration (NASA) L2\n",
       "    date_created: 2019-04-03T20:05:20.7Z\n",
       "    cdm_data_type: Image\n",
       "    time_coverage_start: 2019-04-03T20:01:19.6Z\n",
       "    time_coverage_end: 2019-04-03T20:03:56.8Z\n",
       "    timeline_id: ABI Mode 6\n",
       "    production_data_source: Realtime\n",
       "    id: 6548f345-823b-4096-9102-9603758b9339\n",
       "    dimensions(sizes): y(300), x(500), number_of_time_bounds(2), number_of_image_bounds(2), number_of_LZA_bounds(2), number_of_SZA_bounds(2)\n",
       "    variables(dimensions): int16 \u001b[4mPRES\u001b[0m(y,x), int8 \u001b[4mDQF\u001b[0m(y,x), float64 \u001b[4mt\u001b[0m(), int16 \u001b[4my\u001b[0m(y), int16 \u001b[4mx\u001b[0m(x), float64 \u001b[4mtime_bounds\u001b[0m(number_of_time_bounds), int32 \u001b[4mgoes_imager_projection\u001b[0m(), float32 \u001b[4my_image\u001b[0m(), float32 \u001b[4my_image_bounds\u001b[0m(number_of_image_bounds), float32 \u001b[4mx_image\u001b[0m(), float32 \u001b[4mx_image_bounds\u001b[0m(number_of_image_bounds), float32 \u001b[4mnominal_satellite_subpoint_lat\u001b[0m(), float32 \u001b[4mnominal_satellite_subpoint_lon\u001b[0m(), float32 \u001b[4mnominal_satellite_height\u001b[0m(), float32 \u001b[4mgeospatial_lat_lon_extent\u001b[0m(), int32 \u001b[4moutlier_pixels\u001b[0m(), float32 \u001b[4mminimum_cloud_top_pressure\u001b[0m(), float32 \u001b[4mmaximum_cloud_top_pressure\u001b[0m(), float32 \u001b[4mmean_cloud_top_pressure\u001b[0m(), float32 \u001b[4mstd_dev_cloud_top_pressure\u001b[0m(), int32 \u001b[4malgorithm_dynamic_input_data_container\u001b[0m(), int32 \u001b[4mprocessing_parm_version_container\u001b[0m(), int32 \u001b[4malgorithm_product_version_container\u001b[0m(), float32 \u001b[4mlocal_zenith_angle\u001b[0m(), float32 \u001b[4mlocal_zenith_angle_bounds\u001b[0m(number_of_LZA_bounds), float32 \u001b[4msolar_zenith_angle\u001b[0m(), float32 \u001b[4msolar_zenith_angle_bounds\u001b[0m(number_of_SZA_bounds), float32 \u001b[4mpercent_uncorrectable_GRB_errors\u001b[0m(), float32 \u001b[4mpercent_uncorrectable_L0_errors\u001b[0m(), int32 \u001b[4mcloud_pixels\u001b[0m()\n",
       "    groups: "
      ]
     },
     "execution_count": 19,
     "metadata": {},
     "output_type": "execute_result"
    }
   ],
   "source": [
    "ABI"
   ]
  },
  {
   "cell_type": "code",
   "execution_count": 22,
   "metadata": {},
   "outputs": [],
   "source": [
    "bounds = np.arange(100,1100,50)"
   ]
  },
  {
   "cell_type": "code",
   "execution_count": 23,
   "metadata": {
    "scrolled": true
   },
   "outputs": [
    {
     "name": "stdout",
     "output_type": "stream",
     "text": [
      "2003\n",
      "2008\n",
      "2013\n",
      "2018\n",
      "2023\n",
      "2028\n",
      "2033\n",
      "2038\n",
      "2043\n",
      "2048\n",
      "2053\n",
      "2058\n",
      "2103\n",
      "2108\n",
      "2113\n",
      "2118\n",
      "2123\n",
      "2128\n",
      "2133\n",
      "2138\n",
      "2143\n",
      "2148\n",
      "2153\n",
      "2158\n",
      "2203\n",
      "2208\n",
      "2213\n",
      "2218\n",
      "2223\n",
      "2228\n",
      "2233\n",
      "2238\n",
      "2243\n",
      "2248\n",
      "2253\n",
      "2258\n",
      "2303\n",
      "2308\n",
      "2313\n",
      "2318\n",
      "2323\n",
      "2328\n",
      "2333\n",
      "2338\n",
      "2343\n",
      "2348\n",
      "2353\n",
      "2358\n",
      "0003\n",
      "0008\n",
      "0013\n",
      "0018\n",
      "0023\n",
      "0028\n",
      "0033\n",
      "0038\n",
      "0043\n",
      "0048\n",
      "0053\n",
      "0058\n",
      "0103\n",
      "0108\n",
      "0113\n",
      "0118\n",
      "0123\n",
      "0128\n",
      "0133\n",
      "0138\n",
      "0143\n",
      "0148\n",
      "0153\n",
      "0158\n",
      "0203\n",
      "0208\n",
      "0213\n",
      "0218\n",
      "0223\n",
      "0228\n",
      "0233\n",
      "0238\n",
      "0243\n",
      "0248\n",
      "0253\n",
      "0258\n",
      "0303\n",
      "0308\n",
      "0313\n",
      "0318\n",
      "0323\n",
      "0328\n",
      "0333\n",
      "0338\n",
      "0343\n",
      "0348\n",
      "0353\n",
      "0358\n",
      "0403\n",
      "0408\n",
      "0413\n",
      "0418\n",
      "0423\n",
      "0428\n",
      "0433\n",
      "0438\n",
      "0443\n",
      "0448\n",
      "0453\n",
      "0458\n"
     ]
    }
   ],
   "source": [
    "for i in sorted(os.listdir(source)):\n",
    "    ABI = nc.Dataset(source+i, 'r')\n",
    "    var = ABI.variables['PRES'][:,:]\n",
    "    x = ABI.variables['x'][:]\n",
    "    y = ABI.variables['y'][:]\n",
    "    time_string = ABI.time_coverage_end\n",
    "    time = datetime.strptime(time_string, '%Y-%m-%dT%H:%M:%S.%fZ')\n",
    "    YYYY = time.strftime('%Y')\n",
    "    mm = time.strftime('%m') #month\n",
    "    DD = time.strftime('%D')\n",
    "    dd = time.strftime('%d')\n",
    "    HH = time.strftime('%H')\n",
    "    MM = time.strftime('%M') #Minute\n",
    "    \n",
    "    plt.figure(figsize=(14, 6))\n",
    "    ax = plt.axes(projection=ccrs.Geostationary(-75, 35786023.0))\n",
    "\n",
    "    plt.contourf(x*35786023.0,y*35786023.0,var,cmap=plt.get_cmap('gnuplot2'),alpha=0.8,levels=bounds)\n",
    "    ax.set_extent([nw_lon, se_lon, se_lat, nw_lat])\n",
    "    ax.add_feature(cfeature.LAND)\n",
    "    ax.add_feature(cfeature.STATES, zorder=9)\n",
    "    cbar = plt.colorbar()\n",
    "    \n",
    "    cbar.set_label('Cloud Top Pressure')\n",
    "    plt.title('ABI Cloud Top Pressures (CTP) ',loc='left')\n",
    "    plt.title(DD+'  '+HH+':'+MM, loc='right')\n",
    "    plt.savefig(save_location+YYYY+mm+dd+HH+MM)\n",
    "    plt.close()\n",
    "    print (HH+MM)"
   ]
  },
  {
   "cell_type": "code",
   "execution_count": 24,
   "metadata": {},
   "outputs": [],
   "source": [
    "pics = []\n",
    "for i in sorted(os.listdir(save_location)):\n",
    "    pics.append(img.imread(save_location+i))\n",
    "\n",
    "img.mimsave(save_location+'animation.gif', pics , format='gif', loop=0, duration=0.1, subrectangles=True)"
   ]
  },
  {
   "cell_type": "code",
   "execution_count": null,
   "metadata": {},
   "outputs": [],
   "source": []
  }
 ],
 "metadata": {
  "kernelspec": {
   "display_name": "Python 3",
   "language": "python",
   "name": "python3"
  },
  "language_info": {
   "codemirror_mode": {
    "name": "ipython",
    "version": 3
   },
   "file_extension": ".py",
   "mimetype": "text/x-python",
   "name": "python",
   "nbconvert_exporter": "python",
   "pygments_lexer": "ipython3",
   "version": "3.7.1"
  }
 },
 "nbformat": 4,
 "nbformat_minor": 2
}
