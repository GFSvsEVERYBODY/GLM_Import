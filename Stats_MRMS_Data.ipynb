{
 "cells": [
  {
   "cell_type": "markdown",
   "metadata": {},
   "source": [
    "This program is designed to collect the MRMS data needed for the stats project"
   ]
  },
  {
   "cell_type": "code",
   "execution_count": 7,
   "metadata": {},
   "outputs": [],
   "source": [
    "import numpy as np\n",
    "import netCDF4 as nc\n",
    "import matplotlib.pyplot as plt\n",
    "import cartopy.crs as ccrs\n",
    "import cartopy.feature as cfeature\n",
    "import pandas as pd\n",
    "import datetime\n",
    "import imageio as img\n",
    "import os"
   ]
  },
  {
   "cell_type": "code",
   "execution_count": 17,
   "metadata": {},
   "outputs": [],
   "source": [
    "#Function that assigns the window to pull the data from as a function of time\n",
    "def frames(dtime):\n",
    "    if dtime < datetime.datetime(2019, 4, 4, 1, 54, 0):\n",
    "        nw_lat = 34.75\n",
    "        nw_lon = -101.09\n",
    "        se_lat = 34.16\n",
    "        se_lon = -98.62\n",
    "    elif dtime > datetime.datetime(2019, 4, 4, 1, 54, 0):\n",
    "        nw_lat = 35.11\n",
    "        nw_lon = -98.95\n",
    "        se_lat = 34.19\n",
    "        se_lon = -97.40\n",
    "        \n",
    "    return nw_lat,nw_lon,se_lat,se_lon"
   ]
  },
  {
   "cell_type": "code",
   "execution_count": 18,
   "metadata": {},
   "outputs": [],
   "source": [
    "#Variables\n",
    "input_source = '/localdata/Stats_Project/20190403/MESH/'\n",
    "output_source = '/localdata/Stats_Project/20190403/'\n",
    "\n",
    "nw_lat = 0\n",
    "nw_lon = 0\n",
    "se_lat = 0\n",
    "se_lon = 0"
   ]
  },
  {
   "cell_type": "code",
   "execution_count": 19,
   "metadata": {},
   "outputs": [],
   "source": [
    "var_output = np.empty([0])\n",
    "times = np.empty([0])\n",
    "\n",
    "for MRMS_file in os.listdir(input_source):\n",
    "    nc_file = nc.Dataset(input_source+MRMS_file, 'r')\n",
    "    var = nc_file.variables['MESH'][:,:]\n",
    "    u_lat = nc_file.Latitude #Upper-most latitude\n",
    "    l_lon = nc_file.Longitude #Left-most longitude\n",
    "    \n",
    "    #Creating the arrays for the lat and lon coordinates\n",
    "    y = len(var[:,0])\n",
    "    x = len(var[0,:])\n",
    "    lat = np.arange(u_lat, u_lat-(y*0.01),-0.01) #Going from upper to lower\n",
    "    lon = np.arange(l_lon, l_lon+(x*0.01),0.01) #Going from left to right\n",
    "\n",
    "    dtime = datetime.datetime.utcfromtimestamp(nc_file.Time)\n",
    "    times = np.append(times,dtime)\n",
    "    nw_lat,nw_lon,se_lat,se_lon = frames(dtime)\n",
    "    lat_locs = np.where((lat >= se_lat) & (lat <= nw_lat))[0]\n",
    "    lon_locs = np.where((lon >= nw_lon) & (lon <= se_lon))[0]\n",
    "    \n",
    "    var_cut = var[lat_locs,:]\n",
    "    var_cut = var_cut[:,lon_locs]\n",
    "    if np.nanmax(var_cut) < -1000:\n",
    "        var_max = 0\n",
    "    else:\n",
    "        var_max = np.nanmax(var_cut)\n",
    "        \n",
    "    var_output = np.append(var_output,var_max)\n"
   ]
  },
  {
   "cell_type": "code",
   "execution_count": 20,
   "metadata": {},
   "outputs": [
    {
     "data": {
      "image/png": "[encoded data removed]",
      "text/plain": [
       "<Figure size 432x288 with 1 Axes>"
      ]
     },
     "metadata": {
      "needs_background": "light"
     },
     "output_type": "display_data"
    }
   ],
   "source": [
    "thing = np.ones(len(var_output))*50\n",
    "plt.plot(times,var_output)\n",
    "plt.plot(times,thing)\n",
    "plt.show()"
   ]
  },
  {
   "cell_type": "code",
   "execution_count": 21,
   "metadata": {},
   "outputs": [
    {
     "name": "stdout",
     "output_type": "stream",
     "text": [
      "(391,)\n"
     ]
    }
   ],
   "source": [
    "print (var_output.shape)"
   ]
  },
  {
   "cell_type": "code",
   "execution_count": 23,
   "metadata": {},
   "outputs": [],
   "source": [
    "np.savetxt(output_source+'MESH_MAX.txt',var_output)"
   ]
  },
  {
   "cell_type": "code",
   "execution_count": 24,
   "metadata": {},
   "outputs": [
    {
     "name": "stdout",
     "output_type": "stream",
     "text": [
      "[49 91 92 93 94]\n",
      "[52.81561279 54.692276   52.41680908 51.88566971 50.79472351]\n"
     ]
    }
   ],
   "source": [
    "threshold_locs = np.where(var_output > 50)[0]\n",
    "threshold_times = times[threshold_locs]\n",
    "#print (threshold_times)\n",
    "print (threshold_locs)\n",
    "print (var_output[threshold_locs])"
   ]
  },
  {
   "cell_type": "code",
   "execution_count": 7,
   "metadata": {},
   "outputs": [
    {
     "name": "stdout",
     "output_type": "stream",
     "text": [
      "[datetime.datetime(2018, 5, 1, 22, 0, 1)\n",
      " datetime.datetime(2018, 5, 1, 22, 1, 1)\n",
      " datetime.datetime(2018, 5, 1, 22, 2, 1)\n",
      " datetime.datetime(2018, 5, 1, 22, 3, 1)\n",
      " datetime.datetime(2018, 5, 1, 22, 4, 1)\n",
      " datetime.datetime(2018, 5, 1, 22, 5, 1)\n",
      " datetime.datetime(2018, 5, 1, 22, 6, 1)\n",
      " datetime.datetime(2018, 5, 1, 22, 7, 1)\n",
      " datetime.datetime(2018, 5, 1, 22, 8, 1)\n",
      " datetime.datetime(2018, 5, 1, 22, 9, 1)\n",
      " datetime.datetime(2018, 5, 1, 22, 10, 1)\n",
      " datetime.datetime(2018, 5, 1, 22, 11, 1)\n",
      " datetime.datetime(2018, 5, 1, 22, 12, 1)\n",
      " datetime.datetime(2018, 5, 1, 22, 13, 1)\n",
      " datetime.datetime(2018, 5, 1, 22, 14, 1)\n",
      " datetime.datetime(2018, 5, 1, 22, 15, 1)\n",
      " datetime.datetime(2018, 5, 1, 22, 16, 1)\n",
      " datetime.datetime(2018, 5, 1, 22, 17, 1)\n",
      " datetime.datetime(2018, 5, 1, 22, 18, 1)\n",
      " datetime.datetime(2018, 5, 1, 22, 19, 1)\n",
      " datetime.datetime(2018, 5, 1, 22, 20, 1)\n",
      " datetime.datetime(2018, 5, 1, 22, 21, 1)\n",
      " datetime.datetime(2018, 5, 1, 22, 22, 1)\n",
      " datetime.datetime(2018, 5, 1, 22, 23, 1)\n",
      " datetime.datetime(2018, 5, 1, 22, 24, 1)\n",
      " datetime.datetime(2018, 5, 1, 22, 25, 1)\n",
      " datetime.datetime(2018, 5, 1, 22, 26, 1)\n",
      " datetime.datetime(2018, 5, 1, 22, 27, 1)\n",
      " datetime.datetime(2018, 5, 1, 22, 28, 1)\n",
      " datetime.datetime(2018, 5, 1, 22, 29, 1)\n",
      " datetime.datetime(2018, 5, 1, 22, 30, 1)\n",
      " datetime.datetime(2018, 5, 1, 22, 31, 1)\n",
      " datetime.datetime(2018, 5, 1, 22, 32, 1)\n",
      " datetime.datetime(2018, 5, 1, 22, 33, 1)\n",
      " datetime.datetime(2018, 5, 1, 22, 34, 1)\n",
      " datetime.datetime(2018, 5, 1, 22, 35, 1)\n",
      " datetime.datetime(2018, 5, 1, 22, 36, 1)\n",
      " datetime.datetime(2018, 5, 1, 22, 37, 1)\n",
      " datetime.datetime(2018, 5, 1, 22, 38, 1)\n",
      " datetime.datetime(2018, 5, 1, 22, 39, 1)\n",
      " datetime.datetime(2018, 5, 1, 22, 40, 1)\n",
      " datetime.datetime(2018, 5, 1, 22, 41, 1)\n",
      " datetime.datetime(2018, 5, 1, 22, 42, 1)\n",
      " datetime.datetime(2018, 5, 1, 22, 43, 1)\n",
      " datetime.datetime(2018, 5, 1, 22, 44, 1)\n",
      " datetime.datetime(2018, 5, 1, 22, 45, 1)\n",
      " datetime.datetime(2018, 5, 1, 22, 46, 1)\n",
      " datetime.datetime(2018, 5, 1, 22, 47, 1)\n",
      " datetime.datetime(2018, 5, 1, 22, 48, 1)\n",
      " datetime.datetime(2018, 5, 1, 22, 49, 1)\n",
      " datetime.datetime(2018, 5, 1, 22, 50, 1)\n",
      " datetime.datetime(2018, 5, 1, 22, 51, 1)\n",
      " datetime.datetime(2018, 5, 1, 22, 52, 1)\n",
      " datetime.datetime(2018, 5, 1, 22, 53, 1)\n",
      " datetime.datetime(2018, 5, 1, 22, 54, 1)\n",
      " datetime.datetime(2018, 5, 1, 22, 55, 1)\n",
      " datetime.datetime(2018, 5, 1, 22, 56, 1)\n",
      " datetime.datetime(2018, 5, 1, 22, 57, 1)\n",
      " datetime.datetime(2018, 5, 1, 22, 58, 1)\n",
      " datetime.datetime(2018, 5, 1, 22, 59, 1)\n",
      " datetime.datetime(2018, 5, 1, 23, 0, 1)\n",
      " datetime.datetime(2018, 5, 1, 23, 1, 1)\n",
      " datetime.datetime(2018, 5, 1, 23, 2, 1)\n",
      " datetime.datetime(2018, 5, 1, 23, 3, 1)\n",
      " datetime.datetime(2018, 5, 1, 23, 4, 1)\n",
      " datetime.datetime(2018, 5, 1, 23, 5, 1)\n",
      " datetime.datetime(2018, 5, 1, 23, 6, 1)\n",
      " datetime.datetime(2018, 5, 1, 23, 7, 1)\n",
      " datetime.datetime(2018, 5, 1, 23, 8, 1)\n",
      " datetime.datetime(2018, 5, 1, 23, 9, 1)\n",
      " datetime.datetime(2018, 5, 1, 23, 10, 1)\n",
      " datetime.datetime(2018, 5, 1, 23, 11, 1)\n",
      " datetime.datetime(2018, 5, 1, 23, 12, 1)\n",
      " datetime.datetime(2018, 5, 1, 23, 13, 1)\n",
      " datetime.datetime(2018, 5, 1, 23, 14, 1)\n",
      " datetime.datetime(2018, 5, 1, 23, 15, 1)\n",
      " datetime.datetime(2018, 5, 1, 23, 16, 1)\n",
      " datetime.datetime(2018, 5, 1, 23, 17, 1)\n",
      " datetime.datetime(2018, 5, 1, 23, 18, 1)\n",
      " datetime.datetime(2018, 5, 1, 23, 19, 1)\n",
      " datetime.datetime(2018, 5, 1, 23, 20, 1)\n",
      " datetime.datetime(2018, 5, 1, 23, 21, 1)\n",
      " datetime.datetime(2018, 5, 1, 23, 22, 1)\n",
      " datetime.datetime(2018, 5, 1, 23, 23, 1)\n",
      " datetime.datetime(2018, 5, 1, 23, 24, 1)\n",
      " datetime.datetime(2018, 5, 1, 23, 25, 1)\n",
      " datetime.datetime(2018, 5, 1, 23, 26, 1)\n",
      " datetime.datetime(2018, 5, 1, 23, 27, 1)\n",
      " datetime.datetime(2018, 5, 1, 23, 28, 1)\n",
      " datetime.datetime(2018, 5, 1, 23, 29, 1)\n",
      " datetime.datetime(2018, 5, 1, 23, 30, 1)\n",
      " datetime.datetime(2018, 5, 1, 23, 31, 1)\n",
      " datetime.datetime(2018, 5, 1, 23, 32, 1)\n",
      " datetime.datetime(2018, 5, 1, 23, 33, 1)\n",
      " datetime.datetime(2018, 5, 1, 23, 34, 1)\n",
      " datetime.datetime(2018, 5, 1, 23, 35, 1)\n",
      " datetime.datetime(2018, 5, 1, 23, 36, 1)\n",
      " datetime.datetime(2018, 5, 1, 23, 37, 1)\n",
      " datetime.datetime(2018, 5, 1, 23, 38, 1)\n",
      " datetime.datetime(2018, 5, 1, 23, 39, 1)\n",
      " datetime.datetime(2018, 5, 1, 23, 40, 1)\n",
      " datetime.datetime(2018, 5, 1, 23, 41, 1)\n",
      " datetime.datetime(2018, 5, 1, 23, 42, 1)\n",
      " datetime.datetime(2018, 5, 1, 23, 43, 1)\n",
      " datetime.datetime(2018, 5, 1, 23, 44, 1)\n",
      " datetime.datetime(2018, 5, 1, 23, 45, 1)\n",
      " datetime.datetime(2018, 5, 1, 23, 46, 1)\n",
      " datetime.datetime(2018, 5, 1, 23, 47, 1)\n",
      " datetime.datetime(2018, 5, 1, 23, 48, 1)\n",
      " datetime.datetime(2018, 5, 1, 23, 49, 1)\n",
      " datetime.datetime(2018, 5, 1, 23, 50, 1)\n",
      " datetime.datetime(2018, 5, 1, 23, 51, 1)\n",
      " datetime.datetime(2018, 5, 1, 23, 52, 1)\n",
      " datetime.datetime(2018, 5, 1, 23, 53, 1)\n",
      " datetime.datetime(2018, 5, 1, 23, 54, 1)\n",
      " datetime.datetime(2018, 5, 1, 23, 55, 1)\n",
      " datetime.datetime(2018, 5, 1, 23, 56, 1)\n",
      " datetime.datetime(2018, 5, 1, 23, 57, 1)\n",
      " datetime.datetime(2018, 5, 1, 23, 58, 1)\n",
      " datetime.datetime(2018, 5, 1, 23, 59, 1)\n",
      " datetime.datetime(2018, 5, 2, 0, 0, 1)\n",
      " datetime.datetime(2018, 5, 2, 0, 1, 1)\n",
      " datetime.datetime(2018, 5, 2, 0, 2, 1)\n",
      " datetime.datetime(2018, 5, 2, 0, 3, 1)\n",
      " datetime.datetime(2018, 5, 2, 0, 4, 1)\n",
      " datetime.datetime(2018, 5, 2, 0, 5, 1)\n",
      " datetime.datetime(2018, 5, 2, 0, 6, 1)\n",
      " datetime.datetime(2018, 5, 2, 0, 7, 1)\n",
      " datetime.datetime(2018, 5, 2, 0, 8, 1)\n",
      " datetime.datetime(2018, 5, 2, 0, 9, 1)\n",
      " datetime.datetime(2018, 5, 2, 0, 10, 1)\n",
      " datetime.datetime(2018, 5, 2, 0, 11, 1)\n",
      " datetime.datetime(2018, 5, 2, 0, 12, 1)\n",
      " datetime.datetime(2018, 5, 2, 0, 13, 1)\n",
      " datetime.datetime(2018, 5, 2, 0, 14, 1)\n",
      " datetime.datetime(2018, 5, 2, 0, 15, 1)\n",
      " datetime.datetime(2018, 5, 2, 0, 16, 1)\n",
      " datetime.datetime(2018, 5, 2, 0, 17, 1)\n",
      " datetime.datetime(2018, 5, 2, 0, 18, 1)\n",
      " datetime.datetime(2018, 5, 2, 0, 19, 1)\n",
      " datetime.datetime(2018, 5, 2, 0, 20, 1)\n",
      " datetime.datetime(2018, 5, 2, 0, 21, 1)\n",
      " datetime.datetime(2018, 5, 2, 0, 22, 1)\n",
      " datetime.datetime(2018, 5, 2, 0, 23, 1)\n",
      " datetime.datetime(2018, 5, 2, 0, 24, 1)\n",
      " datetime.datetime(2018, 5, 2, 0, 25, 1)\n",
      " datetime.datetime(2018, 5, 2, 0, 26, 1)\n",
      " datetime.datetime(2018, 5, 2, 0, 27, 1)\n",
      " datetime.datetime(2018, 5, 2, 0, 28, 1)\n",
      " datetime.datetime(2018, 5, 2, 0, 29, 1)\n",
      " datetime.datetime(2018, 5, 2, 0, 30, 1)\n",
      " datetime.datetime(2018, 5, 2, 0, 31, 1)\n",
      " datetime.datetime(2018, 5, 2, 0, 32, 1)\n",
      " datetime.datetime(2018, 5, 2, 0, 33, 1)\n",
      " datetime.datetime(2018, 5, 2, 0, 34, 1)\n",
      " datetime.datetime(2018, 5, 2, 0, 35, 1)\n",
      " datetime.datetime(2018, 5, 2, 0, 36, 1)\n",
      " datetime.datetime(2018, 5, 2, 0, 37, 1)\n",
      " datetime.datetime(2018, 5, 2, 0, 38, 1)\n",
      " datetime.datetime(2018, 5, 2, 0, 39, 1)\n",
      " datetime.datetime(2018, 5, 2, 0, 40, 1)\n",
      " datetime.datetime(2018, 5, 2, 0, 41, 1)\n",
      " datetime.datetime(2018, 5, 2, 0, 42, 1)\n",
      " datetime.datetime(2018, 5, 2, 0, 43, 1)\n",
      " datetime.datetime(2018, 5, 2, 0, 44, 1)\n",
      " datetime.datetime(2018, 5, 2, 0, 45, 1)\n",
      " datetime.datetime(2018, 5, 2, 0, 46, 1)\n",
      " datetime.datetime(2018, 5, 2, 0, 47, 1)\n",
      " datetime.datetime(2018, 5, 2, 0, 48, 1)\n",
      " datetime.datetime(2018, 5, 2, 0, 49, 1)\n",
      " datetime.datetime(2018, 5, 2, 0, 50, 1)\n",
      " datetime.datetime(2018, 5, 2, 0, 51, 1)\n",
      " datetime.datetime(2018, 5, 2, 0, 52, 1)\n",
      " datetime.datetime(2018, 5, 2, 0, 53, 1)\n",
      " datetime.datetime(2018, 5, 2, 0, 54, 1)\n",
      " datetime.datetime(2018, 5, 2, 0, 55, 1)\n",
      " datetime.datetime(2018, 5, 2, 0, 56, 1)\n",
      " datetime.datetime(2018, 5, 2, 0, 57, 1)\n",
      " datetime.datetime(2018, 5, 2, 0, 58, 1)\n",
      " datetime.datetime(2018, 5, 2, 0, 59, 1)\n",
      " datetime.datetime(2018, 5, 2, 1, 0, 1)\n",
      " datetime.datetime(2018, 5, 2, 1, 1, 1)\n",
      " datetime.datetime(2018, 5, 2, 1, 2, 1)\n",
      " datetime.datetime(2018, 5, 2, 1, 3, 1)\n",
      " datetime.datetime(2018, 5, 2, 1, 4, 1)\n",
      " datetime.datetime(2018, 5, 2, 1, 5, 1)\n",
      " datetime.datetime(2018, 5, 2, 1, 6, 1)\n",
      " datetime.datetime(2018, 5, 2, 1, 7, 1)\n",
      " datetime.datetime(2018, 5, 2, 1, 8, 1)\n",
      " datetime.datetime(2018, 5, 2, 1, 9, 1)\n",
      " datetime.datetime(2018, 5, 2, 1, 10, 1)\n",
      " datetime.datetime(2018, 5, 2, 1, 11, 1)\n",
      " datetime.datetime(2018, 5, 2, 1, 12, 1)\n",
      " datetime.datetime(2018, 5, 2, 1, 13, 1)\n",
      " datetime.datetime(2018, 5, 2, 1, 14, 1)\n",
      " datetime.datetime(2018, 5, 2, 1, 15, 1)\n",
      " datetime.datetime(2018, 5, 2, 1, 16, 1)\n",
      " datetime.datetime(2018, 5, 2, 1, 17, 1)\n",
      " datetime.datetime(2018, 5, 2, 1, 18, 1)\n",
      " datetime.datetime(2018, 5, 2, 1, 19, 1)\n",
      " datetime.datetime(2018, 5, 2, 1, 20, 1)\n",
      " datetime.datetime(2018, 5, 2, 1, 21, 1)\n",
      " datetime.datetime(2018, 5, 2, 1, 22, 1)\n",
      " datetime.datetime(2018, 5, 2, 1, 23, 1)\n",
      " datetime.datetime(2018, 5, 2, 1, 24, 1)\n",
      " datetime.datetime(2018, 5, 2, 1, 25, 1)\n",
      " datetime.datetime(2018, 5, 2, 1, 26, 1)\n",
      " datetime.datetime(2018, 5, 2, 1, 27, 1)\n",
      " datetime.datetime(2018, 5, 2, 1, 28, 1)\n",
      " datetime.datetime(2018, 5, 2, 1, 29, 1)\n",
      " datetime.datetime(2018, 5, 2, 1, 30, 1)]\n"
     ]
    }
   ],
   "source": [
    "print (times)"
   ]
  },
  {
   "cell_type": "code",
   "execution_count": 12,
   "metadata": {},
   "outputs": [
    {
     "data": {
      "text/plain": [
       "(array([0, 1, 2, 3, 4, 5, 6, 7, 8, 9]),)"
      ]
     },
     "execution_count": 12,
     "metadata": {},
     "output_type": "execute_result"
    }
   ],
   "source": []
  },
  {
   "cell_type": "code",
   "execution_count": null,
   "metadata": {},
   "outputs": [],
   "source": []
  }
 ],
 "metadata": {
  "kernelspec": {
   "display_name": "Python 3",
   "language": "python",
   "name": "python3"
  },
  "language_info": {
   "codemirror_mode": {
    "name": "ipython",
    "version": 3
   },
   "file_extension": ".py",
   "mimetype": "text/x-python",
   "name": "python",
   "nbconvert_exporter": "python",
   "pygments_lexer": "ipython3",
   "version": "3.7.1"
  }
 },
 "nbformat": 4,
 "nbformat_minor": 2
}
