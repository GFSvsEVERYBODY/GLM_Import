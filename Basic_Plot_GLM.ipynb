{
 "cells": [
  {
   "cell_type": "markdown",
   "metadata": {},
   "source": [
    "This code is designed to import and display the GLM data"
   ]
  },
  {
   "cell_type": "code",
   "execution_count": 1,
   "metadata": {},
   "outputs": [],
   "source": [
    "#import resources\n",
    "\n",
    "import numpy as np\n",
    "import netCDF4 as nc\n",
    "import cartopy.crs as ccrs\n",
    "import os\n",
    "import cartopy.feature as cfeature\n",
    "import cartopy.mpl as cmpl\n",
    "import pyproj as proj\n",
    "import matplotlib.pyplot as plt"
   ]
  },
  {
   "cell_type": "code",
   "execution_count": 2,
   "metadata": {},
   "outputs": [],
   "source": [
    "#import netCDF file\n",
    "nc_file = nc.Dataset('/localdata/cases/20190403/GLM_grids/2019/Apr/04/GLM-00-00_20190404_001700_60_1src_056urad-dx_total_energy.nc','r')\n",
    "nc_file\n",
    "\n",
    "nw_lat=36.40\n",
    "nw_lon=-102.24\n",
    "se_lat=34.10\n",
    "se_lon=-96.80"
   ]
  },
  {
   "cell_type": "code",
   "execution_count": 3,
   "metadata": {},
   "outputs": [
    {
     "data": {
      "text/plain": [
       "<class 'netCDF4._netCDF4.Dataset'>\n",
       "root group (NETCDF4 data model, file format HDF5):\n",
       "    dimensions(sizes): nx(2499), ny(1499), ntimes(1)\n",
       "    variables(dimensions): int32 \u001b[4mgoes_imager_projection\u001b[0m(), float32 \u001b[4mx\u001b[0m(nx), float32 \u001b[4my\u001b[0m(ny), float32 \u001b[4mtime\u001b[0m(ntimes), float32 \u001b[4mtotal_energy\u001b[0m(ntimes,nx,ny)\n",
       "    groups: "
      ]
     },
     "execution_count": 3,
     "metadata": {},
     "output_type": "execute_result"
    }
   ],
   "source": [
    "tests = nc_file.variables['goes_imager_projection']\n",
    "nc_file"
   ]
  },
  {
   "cell_type": "code",
   "execution_count": 4,
   "metadata": {},
   "outputs": [
    {
     "name": "stdout",
     "output_type": "stream",
     "text": [
      "[datetime.datetime(2019, 4, 4, 0, 17)]\n"
     ]
    }
   ],
   "source": [
    "time = nc_file.variables['time']\n",
    "dtime = nc.num2date(time[:],time.units)\n",
    "print (dtime)"
   ]
  },
  {
   "cell_type": "code",
   "execution_count": 6,
   "metadata": {},
   "outputs": [
    {
     "name": "stdout",
     "output_type": "stream",
     "text": [
      "[-0.101304 -0.101248 -0.101192 ...  0.038472  0.038528  0.038584]\n"
     ]
    }
   ],
   "source": [
    "#makes the variable from the netCDF file into a local variable that we can use when plotting data\n",
    "GLM_var = nc_file.variables['total_energy'][:,:]\n",
    "GLM_var = np.squeeze(GLM_var)\n",
    "\n",
    "x = nc_file.variables['x'][:] \n",
    "y = nc_file.variables['y'][:]\n",
    "\n",
    "#GLM_var[x==x[1850],:] = 1000\n",
    "#GLM_var[x==x[1600],:] = 1000\n",
    "\n",
    "#GLM_var[:,y==y[810]] = 1000\n",
    "#GLM_var[:,y==y[740]] = 1000\n",
    "GLM_var[GLM_var==0] = np.nan\n",
    "print (x)"
   ]
  },
  {
   "cell_type": "code",
   "execution_count": 18,
   "metadata": {},
   "outputs": [],
   "source": [
    "x_locs = np.arange(1600,1851,1)\n",
    "y_locs = np.arange(740,811,1)\n",
    "\n",
    "GLM_iso_var = np.ones((len(x),len(y)))*np.nan\n",
    "\n",
    "for i in x_locs:\n",
    "    for j in y_locs:\n",
    "        GLM_iso_var[i,j] = GLM_var[i,j]"
   ]
  },
  {
   "cell_type": "code",
   "execution_count": 21,
   "metadata": {},
   "outputs": [
    {
     "data": {
      "image/png": "[encoded data removed]",
      "text/plain": [
       "<Figure size 1008x360 with 2 Axes>"
      ]
     },
     "metadata": {
      "needs_background": "light"
     },
     "output_type": "display_data"
    }
   ],
   "source": [
    "bounds = np.arange(0, 220, 20)\n",
    "#creating plot with all the features\n",
    "plt.figure(figsize=(14, 5))\n",
    "ax = plt.axes(projection=ccrs.Geostationary(-75, 35786023.0))\n",
    "#ax.set_extent([-87, -80, 25, 32]) #FLORIDA\n",
    "ax.set_extent([nw_lon, se_lon, se_lat, nw_lat])\n",
    "#ax.set_extent([-138, -60, 24, 55]) #CONUS\n",
    "#ax.set_extent([-97, -90, 39, 42]) #MIZZOURI\n",
    "plt.contourf(x * 35786023.0, y * 35786023.0, GLM_var.T*10**15, levels=bounds, cmap=plt.get_cmap('autumn'), zorder=10)\n",
    "plt.title('GLM Total Flash Energy (fJ)', loc='left')\n",
    "plt.title('04/04/19 00:18', loc='right')\n",
    "ax.coastlines(resolution='110m')\n",
    "ax.add_feature(cfeature.LAND)\n",
    "ax.add_feature(cfeature.OCEAN)\n",
    "ax.add_feature(cfeature.STATES, zorder=8)\n",
    "ax.add_feature(cfeature.BORDERS, zorder=9)\n",
    "ax.add_feature(cfeature.LAKES)\n",
    "ax.add_feature(cfeature.RIVERS)\n",
    "\n",
    "we = plt.colorbar()\n",
    "plt.savefig(\"Energy-20190404-0018.png\", orientation=\"landscape\", format=\"png\")\n"
   ]
  },
  {
   "cell_type": "code",
   "execution_count": 10,
   "metadata": {},
   "outputs": [],
   "source": [
    "maptest=ccrs.Geostationary(-75, 35786023.0)\n",
    "data_crs = ccrs.PlateCarree(0)"
   ]
  },
  {
   "cell_type": "code",
   "execution_count": 14,
   "metadata": {},
   "outputs": [
    {
     "data": {
      "text/plain": [
       "array([[5399041.03267252,    6318.24894243,       0.        ],\n",
       "       [5399041.02653432,    6323.65827513,       0.        ],\n",
       "       [5399041.02039005,    6329.06832754,       0.        ],\n",
       "       ...,\n",
       "       [5401000.39575129,   13327.7792882 ,       0.        ],\n",
       "       [5401000.38280153,   13333.18595201,       0.        ],\n",
       "       [5401000.36984651,   13338.59261581,       0.        ]])"
      ]
     },
     "execution_count": 14,
     "metadata": {},
     "output_type": "execute_result"
    }
   ],
   "source": [
    "maptest.transform_points(data_crs,old_lon,old_lat)"
   ]
  },
  {
   "cell_type": "code",
   "execution_count": 56,
   "metadata": {},
   "outputs": [
    {
     "data": {
      "text/plain": [
       "(-1639670.198596629, 0.0)"
      ]
     },
     "execution_count": 56,
     "metadata": {},
     "output_type": "execute_result"
    }
   ],
   "source": [
    "geos(-90,0)"
   ]
  },
  {
   "cell_type": "code",
   "execution_count": 101,
   "metadata": {},
   "outputs": [
    {
     "name": "stdout",
     "output_type": "stream",
     "text": [
      "<pyproj.Proj object at 0x7fef8cf5ef48>\n",
      "<pyproj.Proj object at 0x7fef8d094228>\n"
     ]
    }
   ],
   "source": [
    "wgs84 = proj.Proj(\"+proj=longlat +ellps+WGS84 +datum=WGS84 +no_defs +units=m\")\n",
    "print (wgs84)\n",
    "geos = proj.Proj(\"+proj=geos +lon_0=-75 +lat_0=0 +h=35786023.0 +x_0=0 +y_0=0 +units=km +ellps=WGS84 +sweep=x +no_defs\")\n",
    "print (geos)"
   ]
  },
  {
   "cell_type": "code",
   "execution_count": 13,
   "metadata": {},
   "outputs": [
    {
     "name": "stdout",
     "output_type": "stream",
     "text": [
      "(3249, 1300)\n",
      "3249\n",
      "1300\n"
     ]
    }
   ],
   "source": [
    "#Creating 1-D arrays that can go into the proj.transform function\n",
    "\n",
    "lat_grid = np.ones_like(GLM_var)*np.nan\n",
    "lon_grid = np.ones_like(GLM_var)*np.nan\n",
    "print (lat_grid.shape)\n",
    "print (len(x))\n",
    "print (len(y))\n",
    "for i in np.arange(0,len(x),1): #Filling the latitude grid\n",
    "    lat_grid[i,:] = y\n",
    "for i in np.arange(0,len(y),1): #Filling the latitude grid\n",
    "    lon_grid[:,i] = x\n",
    "    \n",
    "old_lat = np.reshape(lat_grid,len(x)*len(y))\n",
    "old_lon = np.reshape(lon_grid,len(x)*len(y))"
   ]
  },
  {
   "cell_type": "code",
   "execution_count": 81,
   "metadata": {},
   "outputs": [],
   "source": [
    "lon,lat = proj.transform(geos,wgs84,x1*100000,y1*100000)"
   ]
  },
  {
   "cell_type": "code",
   "execution_count": 104,
   "metadata": {},
   "outputs": [],
   "source": [
    "x1,y1 = np.meshgrid(x,y)"
   ]
  },
  {
   "cell_type": "code",
   "execution_count": 68,
   "metadata": {},
   "outputs": [
    {
     "data": {
      "text/plain": [
       "(1300, 3249)"
      ]
     },
     "execution_count": 68,
     "metadata": {},
     "output_type": "execute_result"
    }
   ],
   "source": [
    "x1.shape"
   ]
  },
  {
   "cell_type": "code",
   "execution_count": 82,
   "metadata": {},
   "outputs": [
    {
     "name": "stdout",
     "output_type": "stream",
     "text": [
      "[[-75.1243568  -75.1243065  -75.12425619 ... -74.96106438 -74.96101407\n",
      "  -74.96096377]\n",
      " [-75.1243568  -75.1243065  -75.12425619 ... -74.96106438 -74.96101407\n",
      "  -74.96096377]\n",
      " [-75.1243568  -75.1243065  -75.12425619 ... -74.96106438 -74.96101407\n",
      "  -74.96096377]\n",
      " ...\n",
      " [-75.12435707 -75.12430677 -75.12425646 ... -74.96106429 -74.96101399\n",
      "  -74.96096368]\n",
      " [-75.12435707 -75.12430677 -75.12425646 ... -74.96106429 -74.96101399\n",
      "  -74.96096368]\n",
      " [-75.12435707 -75.12430677 -75.12425646 ... -74.96106429 -74.96101399\n",
      "  -74.96096368]]\n"
     ]
    }
   ],
   "source": [
    "print (lon)"
   ]
  },
  {
   "cell_type": "code",
   "execution_count": 47,
   "metadata": {},
   "outputs": [
    {
     "ename": "TypeError",
     "evalue": "to_latlong() takes 1 positional argument but 3 were given",
     "output_type": "error",
     "traceback": [
      "\u001b[0;31m---------------------------------------------------------------------------\u001b[0m",
      "\u001b[0;31mTypeError\u001b[0m                                 Traceback (most recent call last)",
      "\u001b[0;32m<ipython-input-47-3da44d1e2ba8>\u001b[0m in \u001b[0;36m<module>\u001b[0;34m\u001b[0m\n\u001b[0;32m----> 1\u001b[0;31m \u001b[0mlat\u001b[0m\u001b[0;34m,\u001b[0m\u001b[0mlon\u001b[0m \u001b[0;34m=\u001b[0m \u001b[0mgeos\u001b[0m\u001b[0;34m.\u001b[0m\u001b[0mto_latlong\u001b[0m\u001b[0;34m(\u001b[0m\u001b[0mx1\u001b[0m\u001b[0;34m,\u001b[0m\u001b[0my1\u001b[0m\u001b[0;34m)\u001b[0m\u001b[0;34m\u001b[0m\u001b[0;34m\u001b[0m\u001b[0m\n\u001b[0m",
      "\u001b[0;31mTypeError\u001b[0m: to_latlong() takes 1 positional argument but 3 were given"
     ]
    }
   ],
   "source": [
    "lat,lon = geos.to_latlong(x1,y1)"
   ]
  },
  {
   "cell_type": "code",
   "execution_count": 80,
   "metadata": {},
   "outputs": [
    {
     "name": "stdout",
     "output_type": "stream",
     "text": [
      "[-13843.31   -13837.71   -13832.11   ...   4334.2905   4339.8906\n",
      "   4345.49  ]\n"
     ]
    }
   ],
   "source": [
    "print (x*100000.0)"
   ]
  },
  {
   "cell_type": "code",
   "execution_count": 105,
   "metadata": {},
   "outputs": [
    {
     "data": {
      "text/plain": [
       "(masked_array(\n",
       "   data=[[-75.00000124, -75.00000124, -75.00000124, ..., -74.99999961,\n",
       "          -74.99999961, -74.99999961],\n",
       "         [-75.00000124, -75.00000124, -75.00000124, ..., -74.99999961,\n",
       "          -74.99999961, -74.99999961],\n",
       "         [-75.00000124, -75.00000124, -75.00000124, ..., -74.99999961,\n",
       "          -74.99999961, -74.99999961],\n",
       "         ...,\n",
       "         [-75.00000124, -75.00000124, -75.00000124, ..., -74.99999961,\n",
       "          -74.99999961, -74.99999961],\n",
       "         [-75.00000124, -75.00000124, -75.00000124, ..., -74.99999961,\n",
       "          -74.99999961, -74.99999961],\n",
       "         [-75.00000124, -75.00000124, -75.00000124, ..., -74.99999961,\n",
       "          -74.99999961, -74.99999961]],\n",
       "   mask=False,\n",
       "   fill_value=1e+20), masked_array(\n",
       "   data=[[5.91528427e-07, 5.91528427e-07, 5.91528427e-07, ...,\n",
       "          5.91528427e-07, 5.91528427e-07, 5.91528427e-07],\n",
       "         [5.92034861e-07, 5.92034861e-07, 5.92034861e-07, ...,\n",
       "          5.92034861e-07, 5.92034861e-07, 5.92034861e-07],\n",
       "         [5.92541363e-07, 5.92541363e-07, 5.92541363e-07, ...,\n",
       "          5.92541363e-07, 5.92541363e-07, 5.92541363e-07],\n",
       "         ...,\n",
       "         [1.24839006e-06, 1.24839006e-06, 1.24839006e-06, ...,\n",
       "          1.24839006e-06, 1.24839006e-06, 1.24839006e-06],\n",
       "         [1.24889650e-06, 1.24889650e-06, 1.24889650e-06, ...,\n",
       "          1.24889650e-06, 1.24889650e-06, 1.24889650e-06],\n",
       "         [1.24940293e-06, 1.24940293e-06, 1.24940293e-06, ...,\n",
       "          1.24940293e-06, 1.24940293e-06, 1.24940293e-06]],\n",
       "   mask=False,\n",
       "   fill_value=1e+20))"
      ]
     },
     "execution_count": 105,
     "metadata": {},
     "output_type": "execute_result"
    }
   ],
   "source": [
    "geos(x1,y1,inverse=True)\n",
    "#geos(-100,40)"
   ]
  },
  {
   "cell_type": "code",
   "execution_count": 95,
   "metadata": {},
   "outputs": [
    {
     "data": {
      "text/plain": [
       "1555078.2"
      ]
     },
     "execution_count": 95,
     "metadata": {},
     "output_type": "execute_result"
    }
   ],
   "source": []
  },
  {
   "cell_type": "code",
   "execution_count": 100,
   "metadata": {},
   "outputs": [
    {
     "data": {
      "text/plain": [
       "<class 'netCDF4._netCDF4.Variable'>\n",
       "int32 goes_imager_projection()\n",
       "    long_name: GOES-R ABI fixed grid projection\n",
       "    grid_mapping_name: geostationary\n",
       "    perspective_point_height: 35786023.0\n",
       "    semi_major_axis: 6378137.0\n",
       "    semi_minor_axis: 6356752.31414\n",
       "    inverse_flattening: 298.2572221\n",
       "    latitude_of_projection_origin: 0.0\n",
       "    longitude_of_projection_origin: -75.0\n",
       "    sweep_angle_axis: x\n",
       "unlimited dimensions: \n",
       "current shape = ()\n",
       "filling on, default _FillValue of -2147483647 used"
      ]
     },
     "execution_count": 100,
     "metadata": {},
     "output_type": "execute_result"
    }
   ],
   "source": [
    "tests"
   ]
  },
  {
   "cell_type": "code",
   "execution_count": null,
   "metadata": {},
   "outputs": [],
   "source": []
  }
 ],
 "metadata": {
  "kernelspec": {
   "display_name": "Python 3",
   "language": "python",
   "name": "python3"
  },
  "language_info": {
   "codemirror_mode": {
    "name": "ipython",
    "version": 3
   },
   "file_extension": ".py",
   "mimetype": "text/x-python",
   "name": "python",
   "nbconvert_exporter": "python",
   "pygments_lexer": "ipython3",
   "version": "3.7.1"
  }
 },
 "nbformat": 4,
 "nbformat_minor": 1
}
