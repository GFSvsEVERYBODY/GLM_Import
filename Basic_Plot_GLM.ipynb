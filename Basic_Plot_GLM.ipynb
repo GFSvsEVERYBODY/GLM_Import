{
 "cells": [
  {
   "cell_type": "markdown",
   "metadata": {},
   "source": [
    "This code is designed to import and display the GLM data"
   ]
  },
  {
   "cell_type": "code",
   "execution_count": 18,
   "metadata": {},
   "outputs": [],
   "source": [
    "#import resources\n",
    "\n",
    "import numpy as np\n",
    "import netCDF4 as nc\n",
    "import matplotlib.pyplot as plt\n",
    "import cartopy.crs as ccrs\n",
    "import os\n",
    "import cartopy.feature as cfeature\n",
    "import cartopy.mpl as cmpl\n",
    "import pyproj as proj"
   ]
  },
  {
   "cell_type": "code",
   "execution_count": 34,
   "metadata": {},
   "outputs": [
    {
     "data": {
      "text/plain": [
       "<class 'netCDF4._netCDF4.Dataset'>\n",
       "root group (NETCDF4 data model, file format HDF5):\n",
       "    dimensions(sizes): nx(3249), ny(1300), ntimes(1)\n",
       "    variables(dimensions): int32 \u001b[4mgoes_imager_projection\u001b[0m(), float32 \u001b[4mx\u001b[0m(nx), float32 \u001b[4my\u001b[0m(ny), float32 \u001b[4mtime\u001b[0m(ntimes), float32 \u001b[4mtotal_energy\u001b[0m(ntimes,nx,ny)\n",
       "    groups: "
      ]
     },
     "execution_count": 34,
     "metadata": {},
     "output_type": "execute_result"
    }
   ],
   "source": [
    "#import netCDF file\n",
    "nc_file = nc.Dataset('../../../localdata/cases/20180519/GLM_data/GLM-00-00_20180520_040000_60_1src_056urad-dx_total_energy.nc','r')\n",
    "nc_file"
   ]
  },
  {
   "cell_type": "code",
   "execution_count": null,
   "metadata": {},
   "outputs": [],
   "source": []
  },
  {
   "cell_type": "code",
   "execution_count": 10,
   "metadata": {
    "collapsed": true
   },
   "outputs": [
    {
     "name": "stdout",
     "output_type": "stream",
     "text": [
      "[datetime.datetime(2018, 5, 20, 4, 0)]\n"
     ]
    }
   ],
   "source": [
    "time = nc_file.variables['time']\n",
    "dtime = nc.num2date(time[:],time.units)\n",
    "print (dtime)"
   ]
  },
  {
   "cell_type": "code",
   "execution_count": 11,
   "metadata": {},
   "outputs": [],
   "source": [
    "#makes the variable from the netCDF file into a local variable that we can use when plotting data\n",
    "GLM_var = nc_file.variables['flash_extent_density'][:,:]\n",
    "GLM_var = np.squeeze(GLM_var)\n",
    "\n",
    "x = nc_file.variables['x'][:] \n",
    "y = nc_file.variables['y'][:]\n",
    "\n",
    "GLM_var[x==x[1850],:] = 1000\n",
    "GLM_var[x==x[1600],:] = 1000\n",
    "\n",
    "GLM_var[:,y==y[810]] = 1000\n",
    "GLM_var[:,y==y[740]] = 1000\n",
    "#GLM_var[GLM_var==0] = np.nan"
   ]
  },
  {
   "cell_type": "code",
   "execution_count": 12,
   "metadata": {},
   "outputs": [],
   "source": [
    "x_locs = np.arange(1600,1851,1)\n",
    "y_locs = np.arange(740,811,1)\n",
    "\n",
    "GLM_iso_var = np.ones((len(x),len(y)))*np.nan\n",
    "\n",
    "for i in x_locs:\n",
    "    for j in y_locs:\n",
    "        GLM_iso_var[i,j] = GLM_var[i,j]"
   ]
  },
  {
   "cell_type": "code",
   "execution_count": 14,
   "metadata": {},
   "outputs": [
    {
     "data": {
      "image/png": "[encoded data removed]",
      "text/plain": [
       "<Figure size 1008x360 with 2 Axes>"
      ]
     },
     "metadata": {
      "needs_background": "light"
     },
     "output_type": "display_data"
    }
   ],
   "source": [
    "bounds = np.arange(0, 35, 5)\n",
    "\n",
    "#creating plot with all the features\n",
    "plt.figure(figsize=(14, 5))\n",
    "ax = plt.axes(projection=ccrs.Geostationary(-75, 35786023.0))\n",
    "#ax.set_extent([-87, -80, 25, 32]) #FLORIDA\n",
    "#ax.set_extent([-138, -60, 24, 55]) #CONUS\n",
    "ax.set_extent([-97, -90, 39, 42]) #MIZZOURI\n",
    "plt.contourf(x * 35786023.0, y * 35786023.0, GLM_var.T, levels=bounds, cmap=plt.get_cmap('nipy_spectral'), zorder=10)\n",
    "plt.title('GLM Flash Extent Density')\n",
    "ax.coastlines(resolution='110m')\n",
    "ax.add_feature(cfeature.LAND)\n",
    "ax.add_feature(cfeature.OCEAN)\n",
    "ax.add_feature(cfeature.STATES, zorder=8)\n",
    "ax.add_feature(cfeature.BORDERS, zorder=9)\n",
    "ax.add_feature(cfeature.LAKES)\n",
    "ax.add_feature(cfeature.RIVERS)\n",
    "\n",
    "we = plt.colorbar()\n",
    "#plt.savefig(\"Average_flash_area\", orientation=\"landscape\", format=\"ps\")\n"
   ]
  },
  {
   "cell_type": "code",
   "execution_count": 29,
   "metadata": {},
   "outputs": [],
   "source": [
    "maptest=ccrs.Geostationary(-75, 35786023.0)"
   ]
  },
  {
   "cell_type": "code",
   "execution_count": 30,
   "metadata": {},
   "outputs": [
    {
     "ename": "TypeError",
     "evalue": "transform_point() takes at least 3 positional arguments (2 given)",
     "output_type": "error",
     "traceback": [
      "\u001b[0;31m---------------------------------------------------------------------------\u001b[0m",
      "\u001b[0;31mTypeError\u001b[0m                                 Traceback (most recent call last)",
      "\u001b[0;32m<ipython-input-30-c286b85ab1ee>\u001b[0m in \u001b[0;36m<module>\u001b[0;34m\u001b[0m\n\u001b[0;32m----> 1\u001b[0;31m \u001b[0mmaptest\u001b[0m\u001b[0;34m.\u001b[0m\u001b[0mtransform_point\u001b[0m\u001b[0;34m(\u001b[0m\u001b[0;34m-\u001b[0m\u001b[0;36m97\u001b[0m\u001b[0;34m,\u001b[0m\u001b[0;36m42\u001b[0m\u001b[0;34m)\u001b[0m\u001b[0;34m\u001b[0m\u001b[0;34m\u001b[0m\u001b[0m\n\u001b[0m",
      "\u001b[0;32mlib/cartopy/_crs.pyx\u001b[0m in \u001b[0;36mcartopy._crs.CRS.transform_point\u001b[0;34m()\u001b[0m\n",
      "\u001b[0;31mTypeError\u001b[0m: transform_point() takes at least 3 positional arguments (2 given)"
     ]
    }
   ],
   "source": [
    "maptest.transform_point(-97,42)"
   ]
  },
  {
   "cell_type": "code",
   "execution_count": 31,
   "metadata": {},
   "outputs": [
    {
     "ename": "TypeError",
     "evalue": "descriptor 'transform_point' requires a 'cartopy._crs.CRS' object but received a 'int'",
     "output_type": "error",
     "traceback": [
      "\u001b[0;31m---------------------------------------------------------------------------\u001b[0m",
      "\u001b[0;31mTypeError\u001b[0m                                 Traceback (most recent call last)",
      "\u001b[0;32m<ipython-input-31-de66da8578ba>\u001b[0m in \u001b[0;36m<module>\u001b[0;34m\u001b[0m\n\u001b[0;32m----> 1\u001b[0;31m \u001b[0mccrs\u001b[0m\u001b[0;34m.\u001b[0m\u001b[0mCRS\u001b[0m\u001b[0;34m.\u001b[0m\u001b[0mtransform_point\u001b[0m\u001b[0;34m(\u001b[0m\u001b[0;34m-\u001b[0m\u001b[0;36m97\u001b[0m\u001b[0;34m,\u001b[0m\u001b[0;36m42\u001b[0m\u001b[0;34m,\u001b[0m\u001b[0mmaptest\u001b[0m\u001b[0;34m)\u001b[0m\u001b[0;34m\u001b[0m\u001b[0;34m\u001b[0m\u001b[0m\n\u001b[0m",
      "\u001b[0;31mTypeError\u001b[0m: descriptor 'transform_point' requires a 'cartopy._crs.CRS' object but received a 'int'"
     ]
    }
   ],
   "source": [
    "ccrs.CRS.transform_point(-97,42,maptest)"
   ]
  },
  {
   "cell_type": "code",
   "execution_count": null,
   "metadata": {},
   "outputs": [],
   "source": []
  }
 ],
 "metadata": {
  "kernelspec": {
   "display_name": "Python 3",
   "language": "python",
   "name": "python3"
  },
  "language_info": {
   "codemirror_mode": {
    "name": "ipython",
    "version": 3
   },
   "file_extension": ".py",
   "mimetype": "text/x-python",
   "name": "python",
   "nbconvert_exporter": "python",
   "pygments_lexer": "ipython3",
   "version": "3.7.1"
  }
 },
 "nbformat": 4,
 "nbformat_minor": 1
}
