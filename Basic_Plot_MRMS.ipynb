{
 "cells": [
  {
   "cell_type": "markdown",
   "metadata": {},
   "source": [
    "This code is designed to import and display the MRMS data"
   ]
  },
  {
   "cell_type": "code",
   "execution_count": 22,
   "metadata": {},
   "outputs": [],
   "source": [
    "#import resources\n",
    "\n",
    "import numpy as np\n",
    "import netCDF4 as nc\n",
    "import matplotlib.pyplot as plt\n",
    "import cartopy.crs as ccrs\n",
    "import os\n",
    "import cartopy.feature as cfeature\n",
    "import cartopy.mpl as cmpl"
   ]
  },
  {
   "cell_type": "code",
   "execution_count": 118,
   "metadata": {},
   "outputs": [],
   "source": [
    "#import netCDF file\n",
    "nc_file = nc.Dataset('/localdata/cases/20180519/merged_radar/merged/MESH/00.25/20180520-043752.netcdf','r')"
   ]
  },
  {
   "cell_type": "code",
   "execution_count": 119,
   "metadata": {},
   "outputs": [
    {
     "name": "stdout",
     "output_type": "stream",
     "text": [
      "41.49999999999999 -95.91\n"
     ]
    }
   ],
   "source": [
    "u_lat = nc_file.Latitude #UPPER latitude\n",
    "l_lon = nc_file.Longitude #LEFT Longitude\n",
    "print (u_lat, l_lon)\n",
    "spacing = 0.01 #MRMS spacing between points\n",
    "data_crs = ccrs.PlateCarree()"
   ]
  },
  {
   "cell_type": "code",
   "execution_count": 120,
   "metadata": {},
   "outputs": [
    {
     "name": "stdout",
     "output_type": "stream",
     "text": [
      "(180, 452)\n",
      "(452,) (180,)\n"
     ]
    }
   ],
   "source": [
    "#makes the variable from the netCDF file into a local variable that we can use when plotting data\n",
    "MRMS_var = nc_file.variables['MESH'][:,:]\n",
    "\n",
    "#Getting the dimensions of x and y for plotting\n",
    "len_x = len(MRMS_var[0,:])\n",
    "len_y = len(MRMS_var[:,0])\n",
    "\n",
    "#Setting array for x and y\n",
    "x = np.arange(l_lon, l_lon+(len_x*spacing), spacing) #W->E\n",
    "y = np.arange(u_lat, u_lat-(len_y*spacing), -spacing) #Because of plotting direction, latitudes are N->S\n",
    "\n",
    "MRMS_var[MRMS_var<=0] = np.nan\n",
    "#MRMS_var[MRMS_var<50.8] = np.nan\n",
    "#MRMS_var[MRMS_var>=50.8] = True\n",
    "print (MRMS_var.shape)\n",
    "print (x.shape, y.shape)"
   ]
  },
  {
   "cell_type": "code",
   "execution_count": 121,
   "metadata": {},
   "outputs": [
    {
     "name": "stdout",
     "output_type": "stream",
     "text": [
      "-95.91 41.49999999999999\n",
      "-91.39999999999769 39.71000000000035\n"
     ]
    }
   ],
   "source": [
    "print (x[0], y[0])\n",
    "print (x[-1], y[-1])"
   ]
  },
  {
   "cell_type": "code",
   "execution_count": 123,
   "metadata": {},
   "outputs": [
    {
     "data": {
      "image/png": "[encoded data removed]",
      "text/plain": [
       "<Figure size 720x360 with 1 Axes>"
      ]
     },
     "metadata": {
      "needs_background": "light"
     },
     "output_type": "display_data"
    }
   ],
   "source": [
    "plt.figure(figsize=(10,5))\n",
    "ax = plt.axes(projection=ccrs.PlateCarree(central_longitude=-92))\n",
    "one = ax.contourf(x, y, MRMS_var, zorder=10, transform=data_crs)\n",
    "#ax.set_extent([-138, -60, 24, 55]) #CONUS\n",
    "ax.set_extent([x[0], x[-1], y[-1], y[0]])\n",
    "ax.add_feature(cfeature.STATES)\n",
    "ax.add_feature(cfeature.LAND)\n",
    "ax.add_feature(cfeature.RIVERS)\n",
    "#plt.colorbar(one)\n",
    "plt.show()"
   ]
  }
 ],
 "metadata": {
  "kernelspec": {
   "display_name": "Python 3",
   "language": "python",
   "name": "python3"
  },
  "language_info": {
   "codemirror_mode": {
    "name": "ipython",
    "version": 3
   },
   "file_extension": ".py",
   "mimetype": "text/x-python",
   "name": "python",
   "nbconvert_exporter": "python",
   "pygments_lexer": "ipython3",
   "version": "3.7.1"
  }
 },
 "nbformat": 4,
 "nbformat_minor": 1
}
