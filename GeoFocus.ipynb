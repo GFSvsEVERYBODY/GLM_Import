{
 "cells": [
  {
   "cell_type": "markdown",
   "metadata": {},
   "source": [
    "This program is designed to pull data from a geographic region (Lat/Lon pre-defined) and display it. The first attempt is focused on Florida"
   ]
  },
  {
   "cell_type": "code",
   "execution_count": 1,
   "metadata": {},
   "outputs": [],
   "source": [
    "#import resources\n",
    "import numpy as np\n",
    "import netCDF4 as nc\n",
    "import matplotlib.pyplot as plt"
   ]
  },
  {
   "cell_type": "code",
   "execution_count": 22,
   "metadata": {},
   "outputs": [],
   "source": [
    "R_e = 6.3781 * (10**6) #Radius of the Earth"
   ]
  },
  {
   "cell_type": "code",
   "execution_count": 2,
   "metadata": {},
   "outputs": [],
   "source": [
    "#import netCDF file\n",
    "nc_file = nc.Dataset('/Users/KevinThiel/Grad_School/GLM_DisplayTestData/GLM_HWT/IXTR98_NSSL_s20180728195000_e20180728195100_1MIN','r')"
   ]
  },
  {
   "cell_type": "code",
   "execution_count": 3,
   "metadata": {},
   "outputs": [],
   "source": [
    "#makes the variable from the netCDF file into a local variable that we can use when plotting data\n",
    "flash_extent_density = nc_file.variables['Flash_extent_density'][::1]\n",
    "x = nc_file.variables['x'][:]\n",
    "y = nc_file.variables['y'][:]"
   ]
  },
  {
   "cell_type": "code",
   "execution_count": 25,
   "metadata": {},
   "outputs": [
    {
     "name": "stdout",
     "output_type": "stream",
     "text": [
      "[4587195.773281291 4585191.755993291 4583187.738705291 ...\n 1589185.910433291 1587181.893145291 1585177.875857291]\n[-3625267.349364154 -3623263.332076154 -3621259.314788154 ...\n 1376759.8014838463 1378763.8187718454 1380767.8360598455]\n[41.207719792613474 41.18971729458527 41.17171479655708 ...\n 14.27598274242844 14.257980244400242 14.239977746372043]\n[-32.566519610094694 -32.54851711206649 -32.530514614038296 ...\n 12.367715468288901 12.385717966317092 12.403720464345291]\n3.141592653589793\n"
     ]
    }
   ],
   "source": [
    "y_m = y * 35786023.0  #y convereted into meters from equator\n",
    "x_m = x * 35786023.0  #x convereted into meters from -70W\n",
    "lat = ((y_m * 360)/(2*np.pi*R_e)) #\n",
    "lon = ((x_m * 360)/(2*np.pi*R_e))\n",
    "print (y_m)\n",
    "print (x_m)\n",
    "print (lat)\n",
    "print (lon)\n",
    "print (np.pi)"
   ]
  },
  {
   "cell_type": "code",
   "execution_count": null,
   "metadata": {},
   "outputs": [],
   "source": []
  }
 ],
 "metadata": {
  "kernelspec": {
   "display_name": "Python 3",
   "language": "python",
   "name": "python3"
  },
  "language_info": {
   "codemirror_mode": {
    "name": "ipython",
    "version": 3
   },
   "file_extension": ".py",
   "mimetype": "text/x-python",
   "name": "python",
   "nbconvert_exporter": "python",
   "pygments_lexer": "ipython3",
   "version": "3.6.5"
  }
 },
 "nbformat": 4,
 "nbformat_minor": 2
}
