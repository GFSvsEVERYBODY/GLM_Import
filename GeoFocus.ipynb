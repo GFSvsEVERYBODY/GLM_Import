{
 "cells": [
  {
   "cell_type": "markdown",
   "metadata": {},
   "source": [
    "This program is designed to pull data from a geographic region (Lat/Lon pre-defined) and display it. The first attempt is focused on Florida"
   ]
  },
  {
   "cell_type": "code",
   "execution_count": 7,
   "metadata": {},
   "outputs": [],
   "source": [
    "#import resources\n",
    "\n",
    "import numpy as np\n",
    "import netCDF4 as nc\n",
    "import matplotlib.pyplot as plt\n",
    "import cartopy.crs as ccrs\n",
    "import os\n",
    "import cartopy.feature as cfeature\n",
    "import cartopy.mpl as cmpl"
   ]
  },
  {
   "cell_type": "code",
   "execution_count": 8,
   "metadata": {},
   "outputs": [],
   "source": [
    "#import netCDF file\n",
    "nc_file = nc.Dataset('../../../localdata/cases/20180519/GLM_data/GLM-00-00_20180520_030000_60_1src_056urad-dx_flash_extent.nc','r')"
   ]
  },
  {
   "cell_type": "code",
   "execution_count": 10,
   "metadata": {},
   "outputs": [],
   "source": [
    "#makes the variable from the netCDF file into a local variable that we can use when plotting data\n",
    "GLM_var = nc_file.variables['flash_extent_density'][:,:]\n",
    "GLM_var = np.squeeze(GLM_var)\n",
    "\n",
    "x = nc_file.variables['x'][:] \n",
    "y = nc_file.variables['y'][:]\n",
    "\n",
    "GLM_var[x==x[1850],:] = 1000\n",
    "GLM_var[x==x[1600],:] = 1000\n",
    "\n",
    "GLM_var[:,y==y[810]] = 1000\n",
    "GLM_var[:,y==y[740]] = 1000\n",
    "\n",
    "#GLM_var[GLM_var==0] = np.nan #Turns all of the NaNs into zeros for plotting\n",
    "\n",
    "x_locs = np.arange(1600,1851,1)\n",
    "y_locs = np.arange(740,811,1)\n",
    "\n",
    "GLM_iso_var = np.ones((len(x),len(y)))*np.nan\n",
    "\n",
    "for i in x_locs:\n",
    "    for j in y_locs:\n",
    "        GLM_iso_var[i,j] = GLM_var[i,j]"
   ]
  },
  {
   "cell_type": "code",
   "execution_count": 11,
   "metadata": {},
   "outputs": [],
   "source": []
  },
  {
   "cell_type": "code",
   "execution_count": 12,
   "metadata": {},
   "outputs": [
    {
     "data": {
      "image/png": "[encoded data removed]",
      "text/plain": [
       "<Figure size 1008x720 with 2 Axes>"
      ]
     },
     "metadata": {
      "needs_background": "light"
     },
     "output_type": "display_data"
    }
   ],
   "source": [
    "bounds = np.arange(0, 45, 5)\n",
    "\n",
    "#creating plot with all the features\n",
    "plt.figure(figsize=(14, 10))\n",
    "ax = plt.axes(projection=ccrs.Geostationary(-75, 35786023.0))\n",
    "#ax.set_extent([-87, -80, 25, 32]) #FLORIDA\n",
    "#ax.set_extent([-138, -60, 24, 55]) #CONUS\n",
    "ax.set_extent([-97, -90, 39, 42]) #MIZZOURI\n",
    "plt.contourf(x * 35786023.0, y * 35786023.0, GLM_iso_var.T, levels=bounds, cmap=plt.get_cmap('nipy_spectral'), zorder=10)\n",
    "plt.title('GLM Flash Extent Density')\n",
    "ax.coastlines(resolution='110m')\n",
    "ax.add_feature(cfeature.LAND)\n",
    "ax.add_feature(cfeature.OCEAN)\n",
    "ax.add_feature(cfeature.STATES, zorder=8, linestyle=':')\n",
    "ax.add_feature(cfeature.BORDERS, zorder=9)\n",
    "ax.add_feature(cfeature.LAKES)\n",
    "ax.add_feature(cfeature.RIVERS)\n",
    "\n",
    "we = plt.colorbar()\n",
    "#plt.savefig(\"Average_flash_area\", orientation=\"landscape\", format=\"ps\")"
   ]
  },
  {
   "cell_type": "code",
   "execution_count": null,
   "metadata": {},
   "outputs": [],
   "source": []
  }
 ],
 "metadata": {
  "kernelspec": {
   "display_name": "Python 3",
   "language": "python",
   "name": "python3"
  },
  "language_info": {
   "codemirror_mode": {
    "name": "ipython",
    "version": 3
   },
   "file_extension": ".py",
   "mimetype": "text/x-python",
   "name": "python",
   "nbconvert_exporter": "python",
   "pygments_lexer": "ipython3",
   "version": "3.7.1"
  }
 },
 "nbformat": 4,
 "nbformat_minor": 2
}
