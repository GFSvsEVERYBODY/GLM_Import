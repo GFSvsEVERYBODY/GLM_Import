{
 "cells": [
  {
   "cell_type": "markdown",
   "metadata": {},
   "source": [
    "This program is designed to pull data from a geographic region (Lat/Lon pre-defined) and display it. The first attempt is focused on Florida"
   ]
  },
  {
   "cell_type": "code",
   "execution_count": 1,
   "metadata": {},
   "outputs": [],
   "source": [
    "#import resources\n",
    "\n",
    "import numpy as np\n",
    "import netCDF4 as nc\n",
    "import matplotlib.pyplot as plt\n",
    "import cartopy.crs as ccrs\n",
    "import os\n",
    "import cartopy.feature as cfeature\n",
    "import cartopy.mpl as cmpl\n",
    "from pyproj import Proj"
   ]
  },
  {
   "cell_type": "code",
   "execution_count": 6,
   "metadata": {},
   "outputs": [
    {
     "name": "stdout",
     "output_type": "stream",
     "text": [
      "odict_keys(['goes_imager_projection', 'x', 'y', 'time', 'flash_extent_density'])\n"
     ]
    }
   ],
   "source": [
    "#import netCDF file\n",
    "nc_file = nc.Dataset('/localdata/cases/20180519/GLM_data/GLM-00-00_20180520_030000_60_1src_056urad-dx_flash_extent.nc','r')\n",
    "variables = nc_file.variables.keys()\n",
    "print (variables)"
   ]
  },
  {
   "cell_type": "code",
   "execution_count": 7,
   "metadata": {},
   "outputs": [],
   "source": [
    "GLM_var = nc_file.variables['flash_extent_density'][:,:]"
   ]
  },
  {
   "cell_type": "code",
   "execution_count": 10,
   "metadata": {},
   "outputs": [
    {
     "name": "stdout",
     "output_type": "stream",
     "text": [
      "35786023.0\n",
      "-75.0\n",
      "x\n",
      "(3249,)\n",
      "(1300,)\n"
     ]
    }
   ],
   "source": [
    "nc_file.variables['goes_imager_projection']\n",
    "\n",
    "# Satellite height\n",
    "sat_h = nc_file.variables['goes_imager_projection'].perspective_point_height\n",
    "print (sat_h)\n",
    "\n",
    "# Satellite longitude\n",
    "sat_lon = nc_file.variables['goes_imager_projection'].longitude_of_projection_origin\n",
    "print (sat_lon)\n",
    "\n",
    "# Satellite sweep\n",
    "sat_sweep = nc_file.variables['goes_imager_projection'].sweep_angle_axis\n",
    "print (sat_sweep)\n",
    "\n",
    "# The projection x and y coordinates equals\n",
    "# the scanning angle (in radians) multiplied by the satellite height (http://proj4.org/projections/geos.html)\n",
    "X = nc_file.variables['x'][:] * sat_h\n",
    "Y = nc_file.variables['y'][:] * sat_h\n",
    "print (X.shape)\n",
    "print (Y.shape)"
   ]
  },
  {
   "cell_type": "code",
   "execution_count": 14,
   "metadata": {},
   "outputs": [
    {
     "name": "stdout",
     "output_type": "stream",
     "text": [
      "35786023.0 -75.0 x\n"
     ]
    }
   ],
   "source": [
    "print (sat_h,sat_lon,sat_sweep)"
   ]
  },
  {
   "cell_type": "code",
   "execution_count": 11,
   "metadata": {},
   "outputs": [],
   "source": [
    "# map object with pyproj\n",
    "p = Proj(proj='geos', h=sat_h, lon_0=sat_lon, sweep=sat_sweep)"
   ]
  },
  {
   "cell_type": "code",
   "execution_count": 12,
   "metadata": {},
   "outputs": [],
   "source": [
    "XX, YY = np.meshgrid(X, Y)\n",
    "lons, lats = p(XX, YY, inverse=True)"
   ]
  },
  {
   "cell_type": "code",
   "execution_count": 82,
   "metadata": {
    "scrolled": true
   },
   "outputs": [
    {
     "data": {
      "image/png": "[encoded data removed]",
      "text/plain": [
       "<Figure size 432x288 with 1 Axes>"
      ]
     },
     "metadata": {
      "needs_background": "light"
     },
     "output_type": "display_data"
    },
    {
     "data": {
      "text/plain": [
       "(1300, 3249)"
      ]
     },
     "execution_count": 82,
     "metadata": {},
     "output_type": "execute_result"
    }
   ],
   "source": [
    "plts=plt.plot(lats[800,700:])#,levels=np.arange(-140,-80))\n",
    "plt.ymax=80\n",
    "plt.ymin=20\n",
    "plt.show()\n",
    "#plt.colorbar()\n",
    "limits = (lats > 35) & (lats < 50)\n",
    "limits.shape"
   ]
  },
  {
   "cell_type": "code",
   "execution_count": 84,
   "metadata": {},
   "outputs": [
    {
     "ename": "AttributeError",
     "evalue": "'MaskedArray' object has no attribute 'limits'",
     "output_type": "error",
     "traceback": [
      "\u001b[0;31m---------------------------------------------------------------------------\u001b[0m",
      "\u001b[0;31mAttributeError\u001b[0m                            Traceback (most recent call last)",
      "\u001b[0;32m<ipython-input-84-a1f34c64a4ed>\u001b[0m in \u001b[0;36m<module>\u001b[0;34m\u001b[0m\n\u001b[0;32m----> 1\u001b[0;31m \u001b[0mplt\u001b[0m\u001b[0;34m.\u001b[0m\u001b[0mcontourf\u001b[0m\u001b[0;34m(\u001b[0m\u001b[0mlats\u001b[0m\u001b[0;34m[\u001b[0m\u001b[0mlimits\u001b[0m\u001b[0;34m[\u001b[0m\u001b[0;34m:\u001b[0m\u001b[0;34m,\u001b[0m\u001b[0;36m0\u001b[0m\u001b[0;34m]\u001b[0m\u001b[0;34m.\u001b[0m\u001b[0mlimits\u001b[0m\u001b[0;34m[\u001b[0m\u001b[0;36m0\u001b[0m\u001b[0;34m,\u001b[0m\u001b[0;34m:\u001b[0m\u001b[0;34m]\u001b[0m\u001b[0;34m]\u001b[0m\u001b[0;34m,\u001b[0m\u001b[0mlevels\u001b[0m\u001b[0;34m=\u001b[0m\u001b[0mnp\u001b[0m\u001b[0;34m.\u001b[0m\u001b[0marange\u001b[0m\u001b[0;34m(\u001b[0m\u001b[0;36m25\u001b[0m\u001b[0;34m,\u001b[0m\u001b[0;36m80\u001b[0m\u001b[0;34m)\u001b[0m\u001b[0;34m)\u001b[0m\u001b[0;34m\u001b[0m\u001b[0;34m\u001b[0m\u001b[0m\n\u001b[0m\u001b[1;32m      2\u001b[0m \u001b[0mplt\u001b[0m\u001b[0;34m.\u001b[0m\u001b[0mcolorbar\u001b[0m\u001b[0;34m(\u001b[0m\u001b[0;34m)\u001b[0m\u001b[0;34m\u001b[0m\u001b[0;34m\u001b[0m\u001b[0m\n",
      "\u001b[0;31mAttributeError\u001b[0m: 'MaskedArray' object has no attribute 'limits'"
     ]
    }
   ],
   "source": [
    "plt.contourf(lats,levels=np.arange(25,80))\n",
    "plt.colorbar()"
   ]
  },
  {
   "cell_type": "code",
   "execution_count": 32,
   "metadata": {},
   "outputs": [
    {
     "data": {
      "text/plain": [
       "[<matplotlib.lines.Line2D at 0x7fb5967b0e80>]"
      ]
     },
     "execution_count": 32,
     "metadata": {},
     "output_type": "execute_result"
    },
    {
     "data": {
      "image/png": "[encoded data removed]",
      "text/plain": [
       "<Figure size 432x288 with 1 Axes>"
      ]
     },
     "metadata": {
      "needs_background": "light"
     },
     "output_type": "display_data"
    }
   ],
   "source": [
    "plt.plot(lons[0,25:])"
   ]
  },
  {
   "cell_type": "code",
   "execution_count": 15,
   "metadata": {
    "scrolled": true
   },
   "outputs": [
    {
     "name": "stdout",
     "output_type": "stream",
     "text": [
      "[[1.00000000e+30 1.00000000e+30 1.00000000e+30 ... 2.21405233e+01\n",
      "  2.21409032e+01 2.21412837e+01]\n",
      " [1.00000000e+30 1.00000000e+30 1.00000000e+30 ... 2.21611002e+01\n",
      "  2.21614806e+01 2.21618615e+01]\n",
      " [1.00000000e+30 1.00000000e+30 1.00000000e+30 ... 2.21816844e+01\n",
      "  2.21820653e+01 2.21824467e+01]\n",
      " ...\n",
      " [1.00000000e+30 1.00000000e+30 1.00000000e+30 ... 5.95838856e+01\n",
      "  5.95888990e+01 5.95939259e+01]\n",
      " [1.00000000e+30 1.00000000e+30 1.00000000e+30 ... 5.96400203e+01\n",
      "  5.96450654e+01 5.96501241e+01]\n",
      " [1.00000000e+30 1.00000000e+30 1.00000000e+30 ... 5.96963383e+01\n",
      "  5.97014156e+01 5.97065065e+01]]\n"
     ]
    }
   ],
   "source": [
    "print (lats)"
   ]
  },
  {
   "cell_type": "code",
   "execution_count": 21,
   "metadata": {},
   "outputs": [
    {
     "name": "stdout",
     "output_type": "stream",
     "text": [
      "[2340686.  2342690.  2344694.2 ... 4939896.5 4941900.5 4943904.5]\n"
     ]
    }
   ],
   "source": [
    "print (Y)"
   ]
  },
  {
   "cell_type": "code",
   "execution_count": 30,
   "metadata": {},
   "outputs": [
    {
     "data": {
      "text/plain": [
       "array([ 0,  1,  2,  3,  4,  5,  6,  7,  8,  9, 10, 11, 12, 13, 14, 15, 16,\n",
       "       17, 18, 19, 20, 21, 22, 23, 24])"
      ]
     },
     "execution_count": 30,
     "metadata": {},
     "output_type": "execute_result"
    }
   ],
   "source": [
    "np.where(lats[0,:]>100000000000)[0]"
   ]
  },
  {
   "cell_type": "code",
   "execution_count": null,
   "metadata": {},
   "outputs": [],
   "source": []
  }
 ],
 "metadata": {
  "kernelspec": {
   "display_name": "Python 3",
   "language": "python",
   "name": "python3"
  },
  "language_info": {
   "codemirror_mode": {
    "name": "ipython",
    "version": 3
   },
   "file_extension": ".py",
   "mimetype": "text/x-python",
   "name": "python",
   "nbconvert_exporter": "python",
   "pygments_lexer": "ipython3",
   "version": "3.7.1"
  }
 },
 "nbformat": 4,
 "nbformat_minor": 2
}
