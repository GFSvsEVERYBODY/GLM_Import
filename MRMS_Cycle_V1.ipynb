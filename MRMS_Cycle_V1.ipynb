{
 "cells": [
  {
   "cell_type": "markdown",
   "metadata": {},
   "source": [
    "This notebook is for creating animations and timeseries with the ABI data"
   ]
  },
  {
   "cell_type": "code",
   "execution_count": 1,
   "metadata": {},
   "outputs": [],
   "source": [
    "import numpy as np\n",
    "import netCDF4 as nc\n",
    "import matplotlib.pyplot as plt\n",
    "import cartopy.crs as ccrs\n",
    "import cartopy.feature as cfeature\n",
    "from pyproj import Proj\n",
    "from datetime import datetime\n",
    "import imageio as img\n",
    "import os"
   ]
  },
  {
   "cell_type": "code",
   "execution_count": 11,
   "metadata": {},
   "outputs": [],
   "source": [
    "#Constants\n",
    "source = '/localdata/cases/20190527_1/ABI/CTPC/'\n",
    "save_location = '/localdata/cases/20190527_1/ABI/CTPC_pics/'\n",
    "\n",
    "nw_lat=43.48\n",
    "nw_lon=-104.61\n",
    "se_lat=38.26\n",
    "se_lon=-96.47"
   ]
  },
  {
   "cell_type": "code",
   "execution_count": 1,
   "metadata": {},
   "outputs": [
    {
     "ename": "NameError",
     "evalue": "name 'ABI' is not defined",
     "output_type": "error",
     "traceback": [
      "\u001b[0;31m---------------------------------------------------------------------------\u001b[0m",
      "\u001b[0;31mNameError\u001b[0m                                 Traceback (most recent call last)",
      "\u001b[0;32m<ipython-input-1-f05e24487bdc>\u001b[0m in \u001b[0;36m<module>\u001b[0;34m\u001b[0m\n\u001b[1;32m     22\u001b[0m     \u001b[0;32mreturn\u001b[0m \u001b[0mcut_var\u001b[0m\u001b[0;34m\u001b[0m\u001b[0;34m\u001b[0m\u001b[0m\n\u001b[1;32m     23\u001b[0m \u001b[0;34m\u001b[0m\u001b[0m\n\u001b[0;32m---> 24\u001b[0;31m \u001b[0mcut_var\u001b[0m \u001b[0;34m=\u001b[0m \u001b[0mcutup\u001b[0m\u001b[0;34m(\u001b[0m\u001b[0mABI\u001b[0m\u001b[0;34m,\u001b[0m\u001b[0mvar\u001b[0m\u001b[0;34m,\u001b[0m\u001b[0mnw_lat\u001b[0m\u001b[0;34m,\u001b[0m\u001b[0mnw_lon\u001b[0m\u001b[0;34m,\u001b[0m\u001b[0mse_lat\u001b[0m\u001b[0;34m,\u001b[0m\u001b[0mse_lon\u001b[0m\u001b[0;34m)\u001b[0m\u001b[0;34m\u001b[0m\u001b[0;34m\u001b[0m\u001b[0m\n\u001b[0m",
      "\u001b[0;31mNameError\u001b[0m: name 'ABI' is not defined"
     ]
    }
   ],
   "source": [
    "def cutup(nc_file,var,nw_lat,nw_lon,se_lat,se_lon):\n",
    "    #Getting the Satellite info\n",
    "    sat_h = nc_file.variables['goes_imager_projection'].perspective_point_height\n",
    "    sat_lon = nc_file.variables['goes_imager_projection'].longitude_of_projection_origin\n",
    "    sat_sweep = nc_file.variables['goes_imager_projection'].sweep_angle_axis\n",
    "    \n",
    "    #Creating the projection conversion\n",
    "    p = Proj(proj='geos', h=sat_h, lon_0=sat_lon, sweep=sat_sweep)\n",
    "    \n",
    "    #Getting the XY datapoints setup\n",
    "    X = nc_file.variables['x'][:] * sat_h\n",
    "    Y = nc_file.variables['y'][:] * sat_h\n",
    "    XX, YY = np.meshgrid(X, Y)\n",
    "    \n",
    "    #Conversion to lat/lon\n",
    "    lons, lats = p(XX, YY, inverse=True)\n",
    "    \n",
    "    #Cutting doing the variable\n",
    "    locations = (lons<se_lon) &  (lons>nw_lon) & (lats<nw_lat) & (lats>se_lat)\n",
    "    cut_var = var[locations]\n",
    "    \n",
    "    return cut_var\n",
    "\n",
    "cut_var = cutup(ABI,var,nw_lat,nw_lon,se_lat,se_lon)"
   ]
  },
  {
   "cell_type": "code",
   "execution_count": 15,
   "metadata": {},
   "outputs": [],
   "source": [
    "#Reading in files to create a timeseries\n",
    "var_max = np.empty(0)\n",
    "var_min = np.empty(0)\n",
    "time = np.empty(0)\n",
    "for i in os.listdir(source):\n",
    "    ABI = nc.Dataset(source+i, 'r')\n",
    "    var = ABI.variables['PRES'][:,:]\n",
    "    var_max = np.append(var_max, np.max(var))\n",
    "    var_min = np.append(var_min, np.min(var))\n",
    "    \n",
    "    time_string = ABI.time_coverage_end\n",
    "    time = np.append(time, datetime.strptime(time_string, '%Y-%m-%dT%H:%M:%S.%fZ'))\n",
    "    "
   ]
  },
  {
   "cell_type": "code",
   "execution_count": 17,
   "metadata": {
    "scrolled": true
   },
   "outputs": [
    {
     "data": {
      "image/png": "[encoded data removed]",
      "text/plain": [
       "<Figure size 432x288 with 1 Axes>"
      ]
     },
     "metadata": {
      "needs_background": "light"
     },
     "output_type": "display_data"
    },
    {
     "name": "stdout",
     "output_type": "stream",
     "text": [
      "1019.7119140625\n",
      "103.01697540283203\n"
     ]
    }
   ],
   "source": [
    "#Quick Readout\n",
    "#plt.plot(time,var_max)\n",
    "plt.plot(time,var_min)\n",
    "plt.grid(True)\n",
    "plt.show()\n",
    "print (np.max(var_max))\n",
    "print (np.min(var_min))"
   ]
  },
  {
   "cell_type": "code",
   "execution_count": 4,
   "metadata": {},
   "outputs": [
    {
     "data": {
      "text/plain": [
       "<class 'netCDF4._netCDF4.Dataset'>\n",
       "root group (NETCDF4 data model, file format HDF5):\n",
       "    naming_authority: gov.nesdis.noaa\n",
       "    Conventions: CF-1.7\n",
       "    Metadata_Conventions: Unidata Dataset Discovery v1.0\n",
       "    standard_name_vocabulary: CF Standard Name Table (v35, 20 July 2016)\n",
       "    institution: DOC/NOAA/NESDIS > U.S. Department of Commerce, National Oceanic and Atmospheric Administration, National Environmental Satellite, Data, and Information Services\n",
       "    project: GOES\n",
       "    production_site: NSOF\n",
       "    production_environment: OE\n",
       "    spatial_resolution: 10km at nadir\n",
       "    orbital_slot: GOES-East\n",
       "    platform_ID: G16\n",
       "    instrument_type: GOES R Series Advanced Baseline Imager\n",
       "    scene_id: CONUS\n",
       "    instrument_ID: FM1\n",
       "    dataset_name: OR_ABI-L2-CTPC-M6_G16_s20191472201379_e20191472204152_c20191472205455.nc\n",
       "    iso_series_metadata_id: aa36b140-b00d-11e1-afa6-0800200c9a66\n",
       "    title: ABI L2 Cloud Top Pressure\n",
       "    summary: The Cloud Top Pressure product consists of the pressure at the top of clouds. The product is derived using a physical retrieval composed of a radiative transfer model that calculates clear sky radiances, which is then used to compute the air temperature at cloud top. Product data is generated both day and night.\n",
       "    keywords: ATMOSPHERE > CLOUDS > CLOUD TOP PRESSURE\n",
       "    keywords_vocabulary: NASA Global Change Master Directory (GCMD) Earth Science Keywords, Version 7.0.0.0.0\n",
       "    license: Unclassified data.  Access is restricted to approved users only.\n",
       "    processing_level: National Aeronautics and Space Administration (NASA) L2\n",
       "    date_created: 2019-05-27T22:05:45.5Z\n",
       "    cdm_data_type: Image\n",
       "    time_coverage_start: 2019-05-27T22:01:37.9Z\n",
       "    time_coverage_end: 2019-05-27T22:04:15.2Z\n",
       "    timeline_id: ABI Mode 6\n",
       "    production_data_source: Realtime\n",
       "    id: db552a63-5aa7-4b15-8c40-e46d80401505\n",
       "    dimensions(sizes): y(300), x(500), number_of_time_bounds(2), number_of_image_bounds(2), number_of_LZA_bounds(2), number_of_SZA_bounds(2)\n",
       "    variables(dimensions): int16 \u001b[4mPRES\u001b[0m(y,x), int8 \u001b[4mDQF\u001b[0m(y,x), float64 \u001b[4mt\u001b[0m(), int16 \u001b[4my\u001b[0m(y), int16 \u001b[4mx\u001b[0m(x), float64 \u001b[4mtime_bounds\u001b[0m(number_of_time_bounds), int32 \u001b[4mgoes_imager_projection\u001b[0m(), float32 \u001b[4my_image\u001b[0m(), float32 \u001b[4my_image_bounds\u001b[0m(number_of_image_bounds), float32 \u001b[4mx_image\u001b[0m(), float32 \u001b[4mx_image_bounds\u001b[0m(number_of_image_bounds), float32 \u001b[4mnominal_satellite_subpoint_lat\u001b[0m(), float32 \u001b[4mnominal_satellite_subpoint_lon\u001b[0m(), float32 \u001b[4mnominal_satellite_height\u001b[0m(), float32 \u001b[4mgeospatial_lat_lon_extent\u001b[0m(), int32 \u001b[4moutlier_pixels\u001b[0m(), float32 \u001b[4mminimum_cloud_top_pressure\u001b[0m(), float32 \u001b[4mmaximum_cloud_top_pressure\u001b[0m(), float32 \u001b[4mmean_cloud_top_pressure\u001b[0m(), float32 \u001b[4mstd_dev_cloud_top_pressure\u001b[0m(), int32 \u001b[4malgorithm_dynamic_input_data_container\u001b[0m(), int32 \u001b[4mprocessing_parm_version_container\u001b[0m(), int32 \u001b[4malgorithm_product_version_container\u001b[0m(), float32 \u001b[4mlocal_zenith_angle\u001b[0m(), float32 \u001b[4mlocal_zenith_angle_bounds\u001b[0m(number_of_LZA_bounds), float32 \u001b[4msolar_zenith_angle\u001b[0m(), float32 \u001b[4msolar_zenith_angle_bounds\u001b[0m(number_of_SZA_bounds), float32 \u001b[4mpercent_uncorrectable_GRB_errors\u001b[0m(), float32 \u001b[4mpercent_uncorrectable_L0_errors\u001b[0m(), int32 \u001b[4mcloud_pixels\u001b[0m()\n",
       "    groups: "
      ]
     },
     "execution_count": 4,
     "metadata": {},
     "output_type": "execute_result"
    }
   ],
   "source": [
    "ABI"
   ]
  },
  {
   "cell_type": "code",
   "execution_count": 9,
   "metadata": {},
   "outputs": [],
   "source": [
    "bounds = np.arange(100,1100,50)"
   ]
  },
  {
   "cell_type": "code",
   "execution_count": 12,
   "metadata": {
    "scrolled": true
   },
   "outputs": [
    {
     "name": "stdout",
     "output_type": "stream",
     "text": [
      "2204\n",
      "2209\n",
      "2214\n",
      "2219\n",
      "2224\n",
      "2229\n",
      "2234\n",
      "2239\n",
      "2244\n",
      "2249\n",
      "2254\n",
      "2259\n",
      "2304\n",
      "2309\n",
      "2314\n",
      "2319\n",
      "2324\n",
      "2329\n",
      "2334\n",
      "2339\n",
      "2344\n",
      "2349\n",
      "2354\n",
      "2359\n",
      "0004\n",
      "0009\n",
      "0014\n",
      "0019\n",
      "0024\n",
      "0029\n",
      "0034\n",
      "0039\n",
      "0044\n",
      "0049\n",
      "0054\n",
      "0059\n",
      "0104\n",
      "0109\n",
      "0114\n",
      "0119\n",
      "0124\n",
      "0129\n",
      "0134\n",
      "0139\n",
      "0144\n",
      "0149\n",
      "0154\n",
      "0159\n",
      "0204\n",
      "0209\n",
      "0214\n",
      "0219\n",
      "0224\n",
      "0229\n",
      "0234\n",
      "0239\n",
      "0244\n",
      "0249\n",
      "0254\n",
      "0259\n",
      "0304\n",
      "0309\n",
      "0314\n",
      "0319\n",
      "0324\n",
      "0329\n",
      "0334\n",
      "0339\n",
      "0344\n",
      "0349\n",
      "0354\n",
      "0359\n",
      "0404\n",
      "0409\n",
      "0414\n",
      "0419\n",
      "0424\n",
      "0429\n",
      "0434\n",
      "0439\n",
      "0444\n",
      "0449\n",
      "0454\n",
      "0459\n"
     ]
    }
   ],
   "source": [
    "for i in sorted(os.listdir(source)):\n",
    "    ABI = nc.Dataset(source+i, 'r')\n",
    "    var = ABI.variables['PRES'][:,:]\n",
    "    x = ABI.variables['x'][:]\n",
    "    y = ABI.variables['y'][:]\n",
    "    time_string = ABI.time_coverage_end\n",
    "    time = datetime.strptime(time_string, '%Y-%m-%dT%H:%M:%S.%fZ')\n",
    "    YYYY = time.strftime('%Y')\n",
    "    mm = time.strftime('%m') #month\n",
    "    DD = time.strftime('%D')\n",
    "    dd = time.strftime('%d')\n",
    "    HH = time.strftime('%H')\n",
    "    MM = time.strftime('%M') #Minute\n",
    "    \n",
    "    plt.figure(figsize=(14, 6))\n",
    "    ax = plt.axes(projection=ccrs.Geostationary(-75, 35786023.0))\n",
    "\n",
    "    plt.contourf(x*35786023.0,y*35786023.0,var,cmap=plt.get_cmap('gnuplot2'),alpha=0.8,levels=bounds)\n",
    "    ax.set_extent([nw_lon, se_lon, se_lat, nw_lat])\n",
    "    ax.add_feature(cfeature.LAND)\n",
    "    ax.add_feature(cfeature.STATES, zorder=9)\n",
    "    cbar = plt.colorbar()\n",
    "    \n",
    "    cbar.set_label('Cloud Top Pressures (hPa)')\n",
    "    plt.title('ABI Cloud Top Pressures (CTP)',loc='left')\n",
    "    plt.title(DD+'  '+HH+':'+MM, loc='right')\n",
    "    plt.savefig(save_location+YYYY+mm+dd+HH+MM)\n",
    "    plt.close()\n",
    "    print (HH+MM)"
   ]
  },
  {
   "cell_type": "code",
   "execution_count": 13,
   "metadata": {},
   "outputs": [],
   "source": [
    "pics = []\n",
    "for i in sorted(os.listdir(save_location)):\n",
    "    pics.append(img.imread(save_location+i))\n",
    "\n",
    "img.mimsave(save_location+'animation.gif', pics , format='gif', loop=0, duration=0.1, subrectangles=True)"
   ]
  },
  {
   "cell_type": "code",
   "execution_count": null,
   "metadata": {},
   "outputs": [],
   "source": []
  }
 ],
 "metadata": {
  "kernelspec": {
   "display_name": "Python 3",
   "language": "python",
   "name": "python3"
  },
  "language_info": {
   "codemirror_mode": {
    "name": "ipython",
    "version": 3
   },
   "file_extension": ".py",
   "mimetype": "text/x-python",
   "name": "python",
   "nbconvert_exporter": "python",
   "pygments_lexer": "ipython3",
   "version": "3.7.1"
  }
 },
 "nbformat": 4,
 "nbformat_minor": 2
}
